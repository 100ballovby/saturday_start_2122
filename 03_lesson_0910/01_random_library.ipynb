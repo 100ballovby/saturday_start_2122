{
 "cells": [
  {
   "cell_type": "markdown",
   "metadata": {
    "collapsed": true
   },
   "source": [
    "## Библиотека random\n",
    "\n",
    "<p>Для работы с библиотеками их нужно сначала импортировать: </p>"
   ]
  },
  {
   "cell_type": "code",
   "execution_count": 1,
   "metadata": {},
   "outputs": [],
   "source": [
    "import random as r"
   ]
  },
  {
   "cell_type": "markdown",
   "metadata": {},
   "source": [
    "<p>Тепреь при обращении к функциям библиотеки, я буду сначала писать сокращенное название (<code>r</code>), а затем через точку вызывать функцию, которая мне нужна.</p>"
   ]
  },
  {
   "cell_type": "code",
   "execution_count": 5,
   "metadata": {},
   "outputs": [],
   "source": [
    "num = r.randint(1, 3)"
   ]
  },
  {
   "cell_type": "markdown",
   "metadata": {},
   "source": [
    "<p><code>randint(a, b)</code> выдает псевдослучайное число в диапазоне от <code>a</code> до <code>b</code>.</p>"
   ]
  },
  {
   "cell_type": "code",
   "execution_count": 6,
   "metadata": {},
   "outputs": [
    {
     "name": "stdout",
     "output_type": "stream",
     "text": [
      "1\n"
     ]
    }
   ],
   "source": [
    "print(num)"
   ]
  },
  {
   "cell_type": "markdown",
   "metadata": {},
   "source": [
    "### Пишем программу \"Магический шар\" для принятия решений\n",
    "\n",
    "<p>Нужно дать пользователю задать вопрос программе. Программа должна ответить на вопрос одним из трех вариантов: </p>\n",
    "<ul>\n",
    "    <li>Да!</li>\n",
    "    <li>Нет!</li>\n",
    "    <li>Наверное!</li>\n",
    "</ul>"
   ]
  },
  {
   "cell_type": "code",
   "execution_count": 7,
   "metadata": {},
   "outputs": [
    {
     "name": "stdout",
     "output_type": "stream",
     "text": [
      "Задай вопрос: Я пойду кушать?\n",
      "Да!\n"
     ]
    }
   ],
   "source": [
    "question = input('Задай вопрос: ')\n",
    "\n",
    "if num == 1:  \n",
    "    print('Да!')  \n",
    "elif num == 2:  \n",
    "    print('Нет!')\n",
    "else:\n",
    "    print('Наверное...')"
   ]
  },
  {
   "cell_type": "markdown",
   "metadata": {},
   "source": [
    "<p>Программа получает ответ пользователя, который ей совершенно неинтересен. Генерирует случайное число. В заивисимости от значения, которое получит переменная, программа дает ответ. как бы магический.</p>"
   ]
  },
  {
   "cell_type": "code",
   "execution_count": null,
   "metadata": {},
   "outputs": [],
   "source": []
  }
 ],
 "metadata": {
  "kernelspec": {
   "display_name": "Python 3 (ipykernel)",
   "language": "python",
   "name": "python3"
  },
  "language_info": {
   "codemirror_mode": {
    "name": "ipython",
    "version": 3
   },
   "file_extension": ".py",
   "mimetype": "text/x-python",
   "name": "python",
   "nbconvert_exporter": "python",
   "pygments_lexer": "ipython3",
   "version": "3.7.7"
  }
 },
 "nbformat": 4,
 "nbformat_minor": 1
}