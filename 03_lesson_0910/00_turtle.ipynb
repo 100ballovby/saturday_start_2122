{
 "cells": [
  {
   "cell_type": "markdown",
   "metadata": {
    "collapsed": true,
    "pycharm": {
     "is_executing": true
    }
   },
   "source": [
    "## Исполнитель черепашка\n",
    "\n",
    "<p><b>Импортировать библиотеку</b> - добавить переменные, фукнции и классы, входящие в библиотеку внутрь вашего проекта.</p>\n",
    "<p><b>Библиотека</b> - это набор модулей, которые вы можете применить для улучшения своей программы.</p>\n",
    "\n",
    "<p>Виды импортов:</p>\n",
    "\n",
    "<ul>\n",
    "    <li><code>import <em>&lt;library name&gt;</em></code> - это означает \"подключить библиотеку\". При таком способе импорта, вам нужно будет всегда прописывать имя библиотеки перед названием функции из этой библиотеки: <code><em>&lt;library name&gt;</em>.function()</code></li>\n",
    "    <li><b>Самый желательный!</b> <code>import <em>&lt;library name&gt;</em> as &lt;alias&gt;</code>. При таком способе импорта, вам нужно будет всегда прописывать сокращение имени библиотеки перед названием функции из этой библиотеки: <code><em>&lt;alias&gt;</em>.function()</code></li>\n",
    "    <li><code>from <em>&lt;library name&gt;</em> import function1, function2</code>. При таком способе импорта нет необходимости прописывать имя библиотеки, потому что вы импортируете отдельные функции из нее. Но вы можете столкнуться с конфликтом имен. Если функция в вашей программе будет совпадать с названием функции библиотеки. Способ обращения к функции из библиотеки выглядит так: <code>function1()</code></li>\n",
    "    <li><b>Самый нежелательный!</b> <code>from <em>&lt;library name&gt;</em> import *</code> - импортировать ВСË из библиотеки. Данный вид импорта гарантирует вам конфликт имен, если вдруг вы решите написать свои функции. Способ обращения к функции из библиотеки выглядит так: <code>function_n()</code></li>\n",
    "</ul>\n",
    "\n",
    "<hr>\n",
    "\n",
    "<p>Чтобы импортировать черепашку напишем:</p>"
   ]
  },
  {
   "cell_type": "code",
   "execution_count": 2,
   "metadata": {},
   "outputs": [],
   "source": [
    "from turtle import *  # в данном случае можно"
   ]
  },
  {
   "cell_type": "markdown",
   "metadata": {},
   "source": [
    "<p>Чтобы получить возможность работать с черепашкой, надо создать объект - то, что будет рисовать. Для этого я создам переменную и назначу ей значение в виде класса <code>Turtle()</code>.</p>\n",
    "\n",
    "<p>чтобы программа не выключалась сразу после запуска, в самом коне кода я напишу функцию <code>done()</code>.</p>"
   ]
  },
  {
   "cell_type": "code",
   "execution_count": null,
   "metadata": {},
   "outputs": [],
   "source": [
    "from turtle import *\n",
    "\n",
    "\n",
    "t = Turtle()\n",
    "\n",
    "\n",
    "done()"
   ]
  },
  {
   "cell_type": "markdown",
   "metadata": {},
   "source": [
    "<p>Базовая штука - это смена формы объекта, который рисует. Чтобы превратить этот объект в черепашку, я использую функцию <code>shape('turtle')</code> - объект получит очертания черепашки.</p>"
   ]
  },
  {
   "cell_type": "code",
   "execution_count": null,
   "metadata": {},
   "outputs": [],
   "source": [
    "from turtle import *\n",
    "\n",
    "\n",
    "t = Turtle()\n",
    "t.shape('turtle')\n",
    "\n",
    "done()"
   ]
  },
  {
   "cell_type": "markdown",
   "metadata": {},
   "source": [
    "<p>Можно управлять цветом черепашки. Для этого я использую функцию <code>color('hex-code')</code> - значение цвета передается как RGB-код цвета.</p>"
   ]
  },
  {
   "cell_type": "code",
   "execution_count": null,
   "metadata": {},
   "outputs": [],
   "source": [
    "from turtle import *\n",
    "\n",
    "\n",
    "t = Turtle()\n",
    "t.shape('turtle')\n",
    "t.color('#5200cc')  # обратите внимание на решетку перед кодом цвета\n",
    "\n",
    "done()\n"
   ]
  },
  {
   "cell_type": "markdown",
   "metadata": {},
   "source": [
    "### Перемещения черепашки\n",
    "\n",
    "<p>Есть функции, которые заставляют вашу черепашку двигаться: </p>\n",
    "\n",
    "<ul>\n",
    "    <li><code>.fd(steps)</code> или <code>.forward(steps)</code> - идти вперед на <code>steps</code> шагов;</li>\n",
    "    <li><code>.bk(steps)</code> или <code>.backward(steps)</code> - идти назад на <code>steps</code> шагов;</li>\n",
    "    <li><code>.lt(angle)</code> или <code>.left(angle)</code> - повернуть влево на <code>angle</code> градусов;</li>\n",
    "    <li><code>.rt(angle)</code> или <code>.right(angle)</code> - повернуть вправо на <code>angle</code> градусов;</li>\n",
    "    <li><code>.goto(x, y)</code> - переместиться в координаты <code>x</code>, <code>y</code>. Обратите внимание на то, что для перемещения черепахи нужно закончить рисовать; </li>\n",
    "    <li><code>.up()</code> или <code>.penup()</code> - поднять перо - перестать рисовать;</li>\n",
    "    <li><code>.down()</code> или <code>.pendown()</code> - опустить перо - начать рисовать.</li>\n",
    "</ul>"
   ]
  },
  {
   "cell_type": "code",
   "execution_count": null,
   "metadata": {},
   "outputs": [],
   "source": [
    "from turtle import *\n",
    "\n",
    "\n",
    "t = Turtle()\n",
    "t.shape('turtle')\n",
    "t.color('#5200cc')\n",
    "\n",
    "t.fd(100)  # объект идет вперед на 100 точек\n",
    "t.forward(100)  # объект идет вперед на 100 точек\n",
    "t.lt(90)  # объект поворачивает влево на 90 градусов\n",
    "t.fd(150)\n",
    "\n",
    "done()\n"
   ]
  },
  {
   "cell_type": "code",
   "execution_count": null,
   "metadata": {},
   "outputs": [],
   "source": []
  }
 ],
 "metadata": {
  "kernelspec": {
   "display_name": "Python 3 (ipykernel)",
   "language": "python",
   "name": "python3"
  },
  "language_info": {
   "codemirror_mode": {
    "name": "ipython",
    "version": 3
   },
   "file_extension": ".py",
   "mimetype": "text/x-python",
   "name": "python",
   "nbconvert_exporter": "python",
   "pygments_lexer": "ipython3",
   "version": "3.7.7"
  }
 },
 "nbformat": 4,
 "nbformat_minor": 1
}
