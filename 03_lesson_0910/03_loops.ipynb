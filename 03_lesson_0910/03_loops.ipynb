{
 "cells": [
  {
   "cell_type": "markdown",
   "metadata": {
    "collapsed": true
   },
   "source": [
    "## Циклы\n",
    "\n",
    "<p>В Python существует два основных вида циклов:</p>\n",
    "\n",
    "<ol>\n",
    "    <li><code>for</code> - счетный цикл (то есть он знает, сколько раз нужно повторить какие-то действия.</li>\n",
    "    <li><code>while</code> - условный цикл  (работает, пока выполняется какое-то условие).</li>\n",
    "</ol>\n",
    "\n",
    "## Цикл for\n",
    "\n",
    "<p>Синтаксис цикла for</p>\n",
    "<pre><code><b>\n",
    "for элемент in последовательность:\n",
    "--->действия_для_повторения()\n",
    "</b></code></pre>\n",
    "\n"
   ]
  },
  {
   "cell_type": "code",
   "execution_count": 1,
   "metadata": {},
   "outputs": [
    {
     "name": "stdout",
     "output_type": "stream",
     "text": [
      "i = 1, Привет!\n",
      "i = 2, Привет!\n",
      "i = 3, Привет!\n",
      "i = 4, Привет!\n",
      "i = 5, Привет!\n",
      "i = 6, Привет!\n",
      "i = 7, Привет!\n",
      "i = 8, Привет!\n",
      "i = 9, Привет!\n"
     ]
    }
   ],
   "source": [
    "for i in range(1, 10):\n",
    "    print(f'i = {i}, Привет!')"
   ]
  },
  {
   "cell_type": "markdown",
   "metadata": {},
   "source": [
    "## Задача. Вывести таблицу умножения для числа\n",
    "\n",
    "<p>Вывод должен быть таким: <code>x * n = y</code></p>"
   ]
  },
  {
   "cell_type": "code",
   "execution_count": 2,
   "metadata": {},
   "outputs": [
    {
     "name": "stdout",
     "output_type": "stream",
     "text": [
      "Для какого числа нужна таблица умножения? 34\n",
      "34 * 1 = 34\n",
      "34 * 2 = 68\n",
      "34 * 3 = 102\n",
      "34 * 4 = 136\n",
      "34 * 5 = 170\n",
      "34 * 6 = 204\n",
      "34 * 7 = 238\n",
      "34 * 8 = 272\n",
      "34 * 9 = 306\n",
      "34 * 10 = 340\n"
     ]
    }
   ],
   "source": [
    "n = int(input('Для какого числа нужна таблица умножения? '))\n",
    "\n",
    "for number in range(1, 11):\n",
    "    print(f'{n} * {number} = {n * number}')"
   ]
  },
  {
   "cell_type": "code",
   "execution_count": null,
   "metadata": {},
   "outputs": [],
   "source": []
  }
 ],
 "metadata": {
  "kernelspec": {
   "display_name": "Python 3 (ipykernel)",
   "language": "python",
   "name": "python3"
  },
  "language_info": {
   "codemirror_mode": {
    "name": "ipython",
    "version": 3
   },
   "file_extension": ".py",
   "mimetype": "text/x-python",
   "name": "python",
   "nbconvert_exporter": "python",
   "pygments_lexer": "ipython3",
   "version": "3.7.7"
  }
 },
 "nbformat": 4,
 "nbformat_minor": 1
}
