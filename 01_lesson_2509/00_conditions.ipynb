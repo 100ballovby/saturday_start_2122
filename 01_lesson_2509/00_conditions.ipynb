{
 "cells": [
  {
   "cell_type": "markdown",
   "metadata": {
    "collapsed": true,
    "pycharm": {
     "is_executing": true
    }
   },
   "source": [
    "# Условия\n",
    "\n",
    "<p>Условие - это конструкция \"ветвление\", написанная на языке программирования.</p>\n",
    "\n",
    "## Отступы\n",
    "\n",
    "<p>В Python есть отступы. Отступ показывает, что какой-то код принадлежит определенной ветке программы.</p>\n",
    "\n",
    "<p>Синтаксис условий</p>\n",
    "<pre><code><b>\n",
    "if высказывание:\n",
    "--->действие_если_истина\n",
    "else:\n",
    "--->действие_если_ложь\n",
    "</b></code></pre>\n",
    "\n",
    "<p>Напишем программу, которая проверяет, сколько лет пользователю и если ему есть 18, пишет \"ОК\", а если нет, то \"НЕ ОК\"</p>"
   ]
  },
  {
   "cell_type": "code",
   "execution_count": 1,
   "metadata": {},
   "outputs": [
    {
     "ename": "ValueError",
     "evalue": "invalid literal for int() with base 10: ''",
     "output_type": "error",
     "traceback": [
      "\u001b[0;31m---------------------------------------------------------------------------\u001b[0m",
      "\u001b[0;31mValueError\u001b[0m                                Traceback (most recent call last)",
      "\u001b[0;32m/var/folders/kg/wys5qw45109bn_kq6647wwzw0000gn/T/ipykernel_32944/1618271961.py\u001b[0m in \u001b[0;36m<module>\u001b[0;34m\u001b[0m\n\u001b[0;32m----> 1\u001b[0;31m \u001b[0mage\u001b[0m \u001b[0;34m=\u001b[0m \u001b[0mint\u001b[0m\u001b[0;34m(\u001b[0m\u001b[0minput\u001b[0m\u001b[0;34m(\u001b[0m\u001b[0;34m'Сколько тебе лет? '\u001b[0m\u001b[0;34m)\u001b[0m\u001b[0;34m)\u001b[0m\u001b[0;34m\u001b[0m\u001b[0;34m\u001b[0m\u001b[0m\n\u001b[0m\u001b[1;32m      2\u001b[0m \u001b[0;34m\u001b[0m\u001b[0m\n\u001b[1;32m      3\u001b[0m \u001b[0;32mif\u001b[0m \u001b[0mage\u001b[0m \u001b[0;34m>=\u001b[0m \u001b[0;36m18\u001b[0m\u001b[0;34m:\u001b[0m\u001b[0;34m\u001b[0m\u001b[0;34m\u001b[0m\u001b[0m\n\u001b[1;32m      4\u001b[0m     \u001b[0mprint\u001b[0m\u001b[0;34m(\u001b[0m\u001b[0;34m'ОК'\u001b[0m\u001b[0;34m)\u001b[0m  \u001b[0;31m# код с отступом исполняется по условию\u001b[0m\u001b[0;34m\u001b[0m\u001b[0;34m\u001b[0m\u001b[0m\n\u001b[1;32m      5\u001b[0m \u001b[0;32melse\u001b[0m\u001b[0;34m:\u001b[0m\u001b[0;34m\u001b[0m\u001b[0;34m\u001b[0m\u001b[0m\n",
      "\u001b[0;31mValueError\u001b[0m: invalid literal for int() with base 10: ''"
     ]
    }
   ],
   "source": [
    "age = int(input('Сколько тебе лет? '))\n",
    "\n",
    "if age >= 18:\n",
    "    print('ОК')  # код с отступом исполняется по условию\n",
    "else:\n",
    "    print('НЕ ОК')  # код с отступом исполняется по условию"
   ]
  },
  {
   "cell_type": "markdown",
   "metadata": {},
   "source": [
    "## Высказывания\n",
    "<p><b>Высказывание</b> - это какой-то факт, о котором в настоящем времени можно сказать: это правда или это ложь.</p>\n",
    "<p><i>Все дети ходят в школу</i> - я могу сказать, что это либо правда, либо ложь. Значит это высказывание.</p>\n",
    "<p><i>Снег</i> - я не могу определить истинность/ложность этой фразы, значит она не высказывание.</p>\n",
    "<p>В высказываниях, как правило, используются операторы сравнения <code>&lt;, &gt;, &lt;=, &gt;=, ==, !=</code>.</p>\n",
    "\n",
    "<p>Высказывания могут быть составными - это когда вы проверяете НЕСКОЛЬКО выражений одновременно. Для того, чтобы проверить несколько выражений, используются логическии операции.</p>\n",
    "\n",
    "## Логические операции\n",
    "\n",
    "<ol>\n",
    "    <li><code>И</code> | <code>and</code> - логическое умножение. Составное высказывание с использованием операции И верно тогда и только тогда, когда все высказывания, входящие в его состав, дают истину.</li>\n",
    "    <li><code>ИЛИ</code> | <code>or</code> - логическое сложение. Составное высказывание с использованием оперции ИЛИ верно тогда и только тогда, когда хотя бы одно высказывание, входящее в его состав, дают истину.</li>\n",
    "    <li><code>НЕ</code> | <code>not</code> - операция разворачивает значение. Было True, стало False.</li>\n",
    "</ol>\n",
    "\n",
    "<p>1 - это истина (True), а 0 - это ложь (False)</p>\n",
    "\n",
    "<table>\n",
    "    <tr>\n",
    "        <th>И</th>\n",
    "        <th>ИЛИ</th>\n",
    "        <th>НЕ</th>\n",
    "    </tr>\n",
    "    <tr>\n",
    "        <td><p>1 * 0 = 0;<br>0 * 1 = 0;<br>0 * 0 = 0;<br>1 * 1 = 1</p></td>\n",
    "        <td><p>1 + 0 = 1;<br>0 + 1 = 1;<br>0 + 0 = 0;<br>1 + 1 = 1</p></td>\n",
    "        <td><p>a = True;<br>not a -> False</p></td>\n",
    "    </tr>\n",
    "<table>"
   ]
  },
  {
   "cell_type": "code",
   "execution_count": null,
   "metadata": {},
   "outputs": [],
   "source": [
    "correct_login = 'Zodiac1234'\n",
    "correct_password = '12345qwerty'\n",
    "\n",
    "login = input('Введите логин: ')\n",
    "password = input('Введите пароль: ')\n",
    "\n",
    "if (login == correct_login) and (password == correct_password):\n",
    "    print('Добро пожаловать!')\n",
    "else:\n",
    "    print('Неправильный логин или пароль!')"
   ]
  },
  {
   "cell_type": "markdown",
   "metadata": {},
   "source": [
    "<p>Задача: написать программу, котоорая скажет студенту, может ли он поступить в университет. Условия поступления: </p>\n",
    "\n",
    "<ul>\n",
    "    <li>Средний балл ВЫШЕ 8;</li>\n",
    "    <li>ИЛИ сумма баллов по математике и физике ВЫШЕ 16</li>\n",
    "</ul>"
   ]
  },
  {
   "cell_type": "code",
   "execution_count": null,
   "metadata": {},
   "outputs": [],
   "source": [
    "mid = int(input('Средний балл: '))  # средний балл\n",
    "phys = int(input('Экзамен по физике: '))\n",
    "math = int(input('Экзамен по математике: '))\n",
    "\n",
    "if (mid >= 8) or (phys + math >= 16):\n",
    "    print('Вы можете поступить!')\n",
    "else:\n",
    "    print('Вы не можете поступить!')"
   ]
  },
  {
   "cell_type": "markdown",
   "metadata": {},
   "source": [
    "<p>Нужно напистаь программу, которая получает число. Проверяет, делится ли оно на 2. Если не делится, написать об этом.</p>"
   ]
  },
  {
   "cell_type": "code",
   "execution_count": null,
   "metadata": {},
   "outputs": [],
   "source": [
    "number = int(input('Введите число: '))\n",
    "\n",
    "if not number % 2 == 0:  # если остаток от деления числа на 2 НЕ равен 0\n",
    "    print('Число не делится!')\n",
    "else:\n",
    "    print('Число делится!')"
   ]
  },
  {
   "cell_type": "code",
   "execution_count": null,
   "metadata": {},
   "outputs": [],
   "source": []
  }
 ],
 "metadata": {
  "kernelspec": {
   "display_name": "Python 3 (ipykernel)",
   "language": "python",
   "name": "python3"
  },
  "language_info": {
   "codemirror_mode": {
    "name": "ipython",
    "version": 3
   },
   "file_extension": ".py",
   "mimetype": "text/x-python",
   "name": "python",
   "nbconvert_exporter": "python",
   "pygments_lexer": "ipython3",
   "version": "3.7.7"
  }
 },
 "nbformat": 4,
 "nbformat_minor": 1
}
