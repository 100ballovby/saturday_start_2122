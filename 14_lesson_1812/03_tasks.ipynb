{
 "cells": [
  {
   "cell_type": "markdown",
   "metadata": {
    "collapsed": true
   },
   "source": [
    "## УПРАЖНЕНИЯ\n",
    "<p>8-3 . Футболка: напишите функцию <code>make_shirt()</code>, которая получает размер футболки и текст, который должен быть напечатан на ней . Функция должна выводить сообщение с размером и текстом . Вызовите функцию с использованием позиционных аргументов . Вызовите функцию во второй раз с использованием именованных аргументов .</p>\n"
   ]
  },
  {
   "cell_type": "code",
   "execution_count": 2,
   "metadata": {},
   "outputs": [
    {
     "name": "stdout",
     "output_type": "stream",
     "text": [
      "Size of shirt is L, text on the shirt is Hello\n",
      "Size of shirt is S, text on the shirt is Привет!\n"
     ]
    }
   ],
   "source": [
    "def make_shirt(size, text):\n",
    "    msg = f'Size of shirt is {size}, text on the shirt is {text}'\n",
    "    return msg\n",
    "    \n",
    "print(make_shirt('L', 'Hello'))\n",
    "print(make_shirt(text='Привет!', size='S'))"
   ]
  },
  {
   "cell_type": "markdown",
   "metadata": {},
   "source": [
    "<p>8-4 . Большие футболки: измените функцию <code>make_shirt()</code>, чтобы футболки по умолчанию имели размер <code>L</code>, и на них выводился текст <code>«I love Python.»</code>. Создайте футболку с размером <code>L</code> и текстом по умолчанию, а также футболку любого размера с другим текстом .</p>"
   ]
  },
  {
   "cell_type": "code",
   "execution_count": 3,
   "metadata": {},
   "outputs": [
    {
     "name": "stdout",
     "output_type": "stream",
     "text": [
      "Size of shirt is L, text on the shirt is I love Python\n",
      "Size of shirt is S, text on the shirt is I love C++\n"
     ]
    }
   ],
   "source": [
    "def make_shirt(size='L', text='I love Python'):\n",
    "    msg = f'Size of shirt is {size}, text on the shirt is {text}'\n",
    "    return msg\n",
    "    \n",
    "print(make_shirt('L'))\n",
    "print(make_shirt('S', 'I love C++'))"
   ]
  },
  {
   "cell_type": "markdown",
   "metadata": {},
   "source": [
    "<p>8-5 . Города: напишите функцию <code>describe_city()</code>, которая получает названия города и страны . Функция должна выводить простое сообщение (например, <code>«Reykjavik is in Iceland»</code>) . Задайте параметру страны значение по умолчанию . Вызовите свою функцию для трех разных городов, по крайней мере один из которых не находится в стране по умолчанию.</p>"
   ]
  },
  {
   "cell_type": "code",
   "execution_count": 4,
   "metadata": {},
   "outputs": [
    {
     "name": "stdout",
     "output_type": "stream",
     "text": [
      "Reykjavik is in Iceland\n",
      "Bergen is in Iceland\n",
      "Minsk is in Iceland\n"
     ]
    }
   ],
   "source": [
    "def describe_city(city, country='Iceland'):\n",
    "    msg = f'{city} is in {country}'\n",
    "    return msg\n",
    "\n",
    "print(describe_city('Reykjavik'))\n",
    "print(describe_city('Bergen'))\n",
    "print(describe_city('Minsk'))"
   ]
  }
 ],
 "metadata": {
  "kernelspec": {
   "display_name": "Python 3 (ipykernel)",
   "language": "python",
   "name": "python3"
  },
  "language_info": {
   "codemirror_mode": {
    "name": "ipython",
    "version": 3
   },
   "file_extension": ".py",
   "mimetype": "text/x-python",
   "name": "python",
   "nbconvert_exporter": "python",
   "pygments_lexer": "ipython3",
   "version": "3.7.7"
  }
 },
 "nbformat": 4,
 "nbformat_minor": 1
}