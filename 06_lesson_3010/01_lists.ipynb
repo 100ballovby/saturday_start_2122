{
 "cells": [
  {
   "cell_type": "markdown",
   "metadata": {
    "collapsed": true,
    "pycharm": {
     "is_executing": true
    }
   },
   "source": [
    "# Переменные\n",
    "\n",
    "<p>В Python отстуствуют переменные, вместо них есть <b>имена</b> и <b>объекты</b>, на которые эти имена ссылаются. Называется эта штука: ссылочная модель данных. Вы не присваиваете переменной занчение, вы <b>СВЯЗЫВАЕТЕ</b> имя с объектом.</p>"
   ]
  },
  {
   "cell_type": "code",
   "execution_count": 1,
   "metadata": {},
   "outputs": [],
   "source": [
    "x = 5 + 7"
   ]
  },
  {
   "cell_type": "markdown",
   "metadata": {},
   "source": [
    "<p>Создается два объекта: <code><b>5<sub>int</sub></b></code> и <code><b>7<sub>int</sub></b></code>. Между ними выполняется операция сложения (<code>+</code>) в результате которой образуется новый объект <code><b>12<sub>int</sub></b></code>. Имя <code>x</code> теперь является ссылкой на объект <b>12<sub>int</sub></b>. Неиспользуемые объекты <code><b>5<sub>int</sub></b></code> и <code><b>7<sub>int</sub></b></code> убираются из оперативной памяти сборщиком мусора авторматически. Теперь если обратиться к имени <code>x</code>, мы получим объект, на который она ссылается.</p>"
   ]
  },
  {
   "cell_type": "code",
   "execution_count": 2,
   "metadata": {},
   "outputs": [
    {
     "name": "stdout",
     "output_type": "stream",
     "text": [
      "12\n"
     ]
    }
   ],
   "source": [
    "print(x)"
   ]
  },
  {
   "cell_type": "markdown",
   "metadata": {},
   "source": [
    "## Обмен значений переменных \n",
    "\n",
    "<p>Предположим, что у меня есть две переменные и я хочу, чтобы их значения поменялись местами.</p>"
   ]
  },
  {
   "cell_type": "code",
   "execution_count": 3,
   "metadata": {},
   "outputs": [],
   "source": [
    "num1 = 15\n",
    "num2 = 13"
   ]
  },
  {
   "cell_type": "markdown",
   "metadata": {},
   "source": [
    "<p>Я хочу, чтобы <code>15</code> переместилось в <code>num2</code>, а <code>13</code> - в <code>num1</code></p>\n",
    "\n",
    "<p>Самый простой способ, как это можно сделать, это создать третью переменную и с помощью нее обменять значения.</p>"
   ]
  },
  {
   "cell_type": "code",
   "execution_count": 10,
   "metadata": {},
   "outputs": [
    {
     "name": "stdout",
     "output_type": "stream",
     "text": [
      "num1 = 15;\n",
      "num2 = 13;\n"
     ]
    }
   ],
   "source": [
    "tmp = num1\n",
    "num1 = num2\n",
    "num2 = tmp\n",
    "\n",
    "print(f'num1 = {num1};')\n",
    "print(f'num2 = {num2};')"
   ]
  },
  {
   "cell_type": "markdown",
   "metadata": {},
   "source": [
    "<p>Можно сделать проще. Представьте, что вы готовите блины на двух сковородках. И решаете их перевернуть. Вместо того, чтобы взять третью сковородку, вы просто подбрасываете блины и меняете сковородки местами. Блины переворачиваются и приземляются на разные сковородки.</p>\n",
    "\n",
    "<p>В Python можно сделать это с переменными:</p>"
   ]
  },
  {
   "cell_type": "code",
   "execution_count": 9,
   "metadata": {},
   "outputs": [
    {
     "name": "stdout",
     "output_type": "stream",
     "text": [
      "num1 = 13;\n",
      "num2 = 15;\n"
     ]
    }
   ],
   "source": [
    "num1 = 15\n",
    "num2 = 13\n",
    "\n",
    "num1, num2 = num2, num1\n",
    "\n",
    "print(f'num1 = {num1};')\n",
    "print(f'num2 = {num2};')"
   ]
  },
  {
   "cell_type": "markdown",
   "metadata": {},
   "source": [
    "<p>Буква <code>f</code> перед строкой и <code>{}</code> внутри строки используются для того, чтобы поместить значение переменной внутрь текста.</p>\n",
    "\n",
    "## Коллекции данных\n",
    "\n",
    "<p>В переменной можно хранить только одно значение. Но иногда возникает ситуация, когда таких значений должно быть несколько. Чтобы хранить много значений, можно использовать <b>массивы</b>.</p>\n",
    "\n",
    "<p><b>Массив</b> - это упорядоченная последовательность данных определенной длины, где все данные имеют один тип.</p>\n",
    "\n",
    "<p>Объявление массива в С++ выглядит так:</p>\n",
    "<pre><code>\n",
    "int marks[4] = {4, 5, 6, 2};\n",
    "</code></pre>\n",
    "\n",
    "<p>Проблема в том, что в Python массивов <b>нет</b>. Вместо них в Python есть списки.</p>\n",
    "\n",
    "<p><b>Список</b> - это то же самое, что массив, только без ограничений по типу данных и количеству элементов. В Python списки заключены в <code>[]</code>.</p>"
   ]
  },
  {
   "cell_type": "code",
   "execution_count": 11,
   "metadata": {},
   "outputs": [],
   "source": [
    "my_list = []  # это список"
   ]
  },
  {
   "cell_type": "markdown",
   "metadata": {},
   "source": [
    "<p>Список может быть пустым.</p>\n",
    "\n",
    "<p>Со списками можно совершать те же математические операции, что и со строчками. То есть: <code>list + list</code>, <code>list * int</code></p>"
   ]
  },
  {
   "cell_type": "code",
   "execution_count": 14,
   "metadata": {},
   "outputs": [
    {
     "name": "stdout",
     "output_type": "stream",
     "text": [
      "Сложение списков: [1, 2, 3, 5.6, 1.2, 4.4].\n",
      "Умножение списка на число: [1, 2, 3, 1, 2, 3, 1, 2, 3].\n"
     ]
    }
   ],
   "source": [
    "l1 = [1, 2, 3]\n",
    "l2 = [5.6, 1.2, 4.4]\n",
    "\n",
    "print(f'Сложение списков: {l1 + l2}.')\n",
    "\n",
    "print(f'Умножение списка на число: {l1 * 3}.')"
   ]
  },
  {
   "cell_type": "markdown",
   "metadata": {},
   "source": [
    "## Методы списков\n",
    "\n",
    "<p>Методы - это специальные функции, которые либо изменяют объект, либо добавляют ему новые свойства.</p>\n",
    "\n",
    "<p>Основные методы:</p>\n",
    "<ol>\n",
    "    <li><code>.append(<b>x</b>)</code> - метод добавляет (дописывает) в список элемент <code>x</code> на последнее место.</li>\n",
    "    <li><code>.insert(<b>index</b>, <b>element</b>)</code> - метод вставляет элемент <code>element</code> на место <code>index</code>. Остальные элементы сдвигаются.</li>\n",
    "    <li><code>.pop()</code> - удаляет последний элемент из списка. Вы можете написать <code>.pop(<b>5</b>)</code> - он удалит элемент с порядковым номером <code><b>5</b></code> из списка.</li>\n",
    "    <li><code>.sort()</code> - сортирует элементы списка по возрастанию.</li>\n",
    "</ol>\n",
    "\n",
    "<p>У элементов списка, также как и у элементов строки, есть порядковые номера (индексы). Индексы начинаются с 0 и работают точно так же, как они работают в строчках.</p>"
   ]
  },
  {
   "cell_type": "code",
   "execution_count": 17,
   "metadata": {},
   "outputs": [
    {
     "name": "stdout",
     "output_type": "stream",
     "text": [
      "Третий элемент списка: kotleti.\n"
     ]
    }
   ],
   "source": [
    "my_food = ['pizza', 'pasta', 'kotleti', 'borschch']\n",
    "\n",
    "print(f'Третий элемент списка: {my_food[2]}.')"
   ]
  },
  {
   "cell_type": "markdown",
   "metadata": {},
   "source": [
    "## Замена элемента\n",
    "\n",
    "<p>Элементы списков могут заменяться. Чтобы это сделать, нужно указать индекс элемента, который хотите заменить, и новое значение.</p>"
   ]
  },
  {
   "cell_type": "code",
   "execution_count": 1,
   "metadata": {},
   "outputs": [
    {
     "name": "stdout",
     "output_type": "stream",
     "text": [
      "['молоко', 'кефир', 'хлеб', 'сырок']\n"
     ]
    }
   ],
   "source": [
    "grandma = ['молоко', 'кефир', 'хлеб', 'кириешки']\n",
    "\n",
    "grandma[3] = 'сырок'\n",
    "print(grandma)"
   ]
  },
  {
   "cell_type": "markdown",
   "metadata": {},
   "source": [
    "## Наполнение списка \n",
    "\n",
    "<p>Наполнить список 10 элементами, каждый из которых - это случайное число в диапазоне от 1 до 50.</p>"
   ]
  },
  {
   "cell_type": "code",
   "execution_count": 3,
   "metadata": {},
   "outputs": [
    {
     "name": "stdout",
     "output_type": "stream",
     "text": [
      "[22, 43, 46, 27, 1, 31, 6, 18, 24, 32]\n"
     ]
    }
   ],
   "source": [
    "import random as r\n",
    "\n",
    "r_list = []  # создаю пустой список \n",
    "\n",
    "for n in range(10):  # повторить 10 раз \n",
    "    r_int = r.randint(1, 50)\n",
    "    r_list.append(r_int)\n",
    "    \n",
    "print(r_list)"
   ]
  },
  {
   "cell_type": "markdown",
   "metadata": {},
   "source": [
    "## Замена элементов по условию\n",
    "\n",
    "<p>Дан список, в котором необходимо заменить все 0 на <code>None</code>. Длина списка неизвестна.</p>"
   ]
  },
  {
   "cell_type": "code",
   "execution_count": 5,
   "metadata": {},
   "outputs": [
    {
     "name": "stdout",
     "output_type": "stream",
     "text": [
      "[5, 0, 12, 6, 4, 0, 13, 7, 0, 567, 3, 0, 0, 0, 6, 23, 89]\n"
     ]
    }
   ],
   "source": [
    "raw = [5, 0, 12, 6, 4, 0, 13, 7, 0, 567, 3, 0, 0, 0, 6, 23, 89]\n",
    "\n",
    "print(raw)"
   ]
  },
  {
   "cell_type": "markdown",
   "metadata": {},
   "source": [
    "<p>Список у меня есть. Теперь мне нужно заняться перебором всех его элементов (цикл, количество повторений корого равно длине списка). И, если конкретный элемент, равен 0, заменить этот элемент на <code>None</code></p>"
   ]
  },
  {
   "cell_type": "code",
   "execution_count": 7,
   "metadata": {},
   "outputs": [
    {
     "name": "stdout",
     "output_type": "stream",
     "text": [
      "[5, None, 12, 6, 4, None, 13, 7, None, 567, 3, None, None, None, 6, 23, 89]\n"
     ]
    }
   ],
   "source": [
    "for i in range(len(raw)):  # повторить <длина_списка_raw> раз \n",
    "    if raw[i] == 0:\n",
    "        raw[i] = None\n",
    "        \n",
    "print(raw)"
   ]
  },
  {
   "cell_type": "code",
   "execution_count": null,
   "metadata": {},
   "outputs": [],
   "source": []
  }
 ],
 "metadata": {
  "kernelspec": {
   "display_name": "Python 3 (ipykernel)",
   "language": "python",
   "name": "python3"
  },
  "language_info": {
   "codemirror_mode": {
    "name": "ipython",
    "version": 3
   },
   "file_extension": ".py",
   "mimetype": "text/x-python",
   "name": "python",
   "nbconvert_exporter": "python",
   "pygments_lexer": "ipython3",
   "version": "3.7.7"
  }
 },
 "nbformat": 4,
 "nbformat_minor": 1
}
