{
 "cells": [
  {
   "cell_type": "markdown",
   "metadata": {
    "collapsed": true,
    "pycharm": {
     "is_executing": true
    }
   },
   "source": [
    "## Сумма N чисел\n",
    "\n",
    "<p>Для подсчета суммы нужно использовать отдельную переменную, в которой будут храниться результаты вычислений.</p>"
   ]
  },
  {
   "cell_type": "code",
   "execution_count": 1,
   "metadata": {},
   "outputs": [
    {
     "name": "stdout",
     "output_type": "stream",
     "text": [
      "Сколько чисел? 5\n",
      "Сумма чисел: 15.\n"
     ]
    }
   ],
   "source": [
    "summary = 0  # здесь храню вычисления \n",
    "n = int(input('Сколько чисел? '))\n",
    "\n",
    "for number in range(1, n + 1):   # просматриваю последовательность от 1 до n включительно \n",
    "    summary += number # складываю каждое число из последовательности с суммой чисел\n",
    "    \n",
    "print(f'Сумма чисел: {summary}.')"
   ]
  },
  {
   "cell_type": "markdown",
   "metadata": {},
   "source": [
    "<p>Эту задачу можно решить иначе. В условии задачи ничего не было сказано про ограничители.</p> \n",
    "\n",
    "<p>В Python есть функция <code>sum(sequence)</code>, которая считает сумму элементов последовательности <code>sequence</code> и возвращает число.</p>"
   ]
  },
  {
   "cell_type": "code",
   "execution_count": 2,
   "metadata": {},
   "outputs": [
    {
     "name": "stdout",
     "output_type": "stream",
     "text": [
      "12\n"
     ]
    }
   ],
   "source": [
    "my_tuple = (1, 4, 5, 2)\n",
    "\n",
    "print(sum(my_tuple))"
   ]
  },
  {
   "cell_type": "markdown",
   "metadata": {},
   "source": [
    "<p>Чтобы применить это к нашей задаче, я помещу в функцию <code>sum()</code> функцию <code>range()</code>. <code>range()</code> генерирует математическую последовательность, а <code>sum()</code> считает сумму элементов последовательности.</p>"
   ]
  },
  {
   "cell_type": "code",
   "execution_count": 3,
   "metadata": {},
   "outputs": [
    {
     "name": "stdout",
     "output_type": "stream",
     "text": [
      "Сколько чисел нужно? 5\n",
      "Сумма чисел: 15\n"
     ]
    }
   ],
   "source": [
    "n = int(input('Сколько чисел нужно? '))\n",
    "\n",
    "print(f'Сумма чисел: {sum(range(1, n + 1))}')"
   ]
  },
  {
   "cell_type": "markdown",
   "metadata": {},
   "source": [
    "<p>НО! Если очень хочется выпендриться, можно решить эту задачу в одну строку.</p>"
   ]
  },
  {
   "cell_type": "code",
   "execution_count": 5,
   "metadata": {},
   "outputs": [
    {
     "name": "stdout",
     "output_type": "stream",
     "text": [
      "5\n",
      "Сумма чисел: 15\n"
     ]
    }
   ],
   "source": [
    "print(f'Сумма чисел: {sum(range(1, int(input()) + 1))}')"
   ]
  },
  {
   "cell_type": "markdown",
   "metadata": {},
   "source": [
    "<p><code><b>int(input())</b></code> - вернет число, которое введут с клавиатуры.</p>\n",
    "<p><code><b>range(1,</b> int(input()) <b>+ 1))</b></code> - построит последовательность от 1 до числа, введенного пользователем включая его.</p>\n",
    "<p><code><b>sum(</b>range(1, int(input()) + 1)<b>)</b></code> - посчитает сумму всех элементов.</p>\n",
    "<p><code><b>print(f'Сумма чисел: {</b>sum(range(1, int(input()) + 1))<b>}')</b></code> - вывод всего, что получилось.</p>"
   ]
  },
  {
   "cell_type": "markdown",
   "metadata": {},
   "source": [
    "## Сумма кубов чисел от 1 до N"
   ]
  },
  {
   "cell_type": "code",
   "execution_count": 6,
   "metadata": {},
   "outputs": [
    {
     "name": "stdout",
     "output_type": "stream",
     "text": [
      "Сколько чисел? 3\n",
      "Сумма кубов чисел: 36.\n"
     ]
    }
   ],
   "source": [
    "summary = 0  # здесь храню вычисления \n",
    "n = int(input('Сколько чисел? '))\n",
    "\n",
    "for number in range(1, n + 1):   # просматриваю последовательность от 1 до n включительно \n",
    "    summary += number ** 3  # возвожу каждое число в куб и считаю сумму\n",
    "    \n",
    "print(f'Сумма кубов чисел: {summary}.')"
   ]
  },
  {
   "cell_type": "markdown",
   "metadata": {},
   "source": [
    "<p>Оператор <code>**</code> - это возведение в степень. Например: <code>2 <b>**</b> 3 = 8</code></p>"
   ]
  },
  {
   "cell_type": "markdown",
   "metadata": {},
   "source": [
    "## Среднее арифметическое N оценок \n",
    "\n",
    "<p>Написать программу, которая получает оценки за контрольную N количества учеников. Программа должна посчитать среднее арифметическое всех оценок. Оценки и количество учеников вводятся пользователем. <b>ИСПОЛЬЗОВАТЬ КУЧУ ИНПУТОВ НЕЛЬЗЯ</b>.</p>\n",
    "\n",
    "<p>Раз мне нельзя использовать много <code>input</code>'ов, я могу поставить один <code>input</code> в цикл на <code>N</code> повторений.</p>"
   ]
  },
  {
   "cell_type": "code",
   "execution_count": 8,
   "metadata": {},
   "outputs": [
    {
     "name": "stdout",
     "output_type": "stream",
     "text": [
      "Введите количество учеников: 4\n",
      "Введите оценку 1 студента: 6\n",
      "Введите оценку 2 студента: 9\n",
      "Введите оценку 3 студента: 4\n",
      "Введите оценку 4 студента: 10\n",
      "Среднее: 7.25\n"
     ]
    }
   ],
   "source": [
    "students = int(input('Введите количество учеников: '))\n",
    "mid = 0  # для подсчета среднего арифметического \n",
    "\n",
    "for student in range(1, students + 1):  # количество повторений цикла = количеству студентов\n",
    "    mark = int(input(f'Введите оценку {student} студента: '))  # буду просить оценку студента по порядковому номеру\n",
    "    mid += mark  # прибавляю оценку к сумме оценок \n",
    "    \n",
    "print(f'Среднее: {mid / students}')"
   ]
  }
 ],
 "metadata": {
  "kernelspec": {
   "display_name": "Python 3 (ipykernel)",
   "language": "python",
   "name": "python3"
  },
  "language_info": {
   "codemirror_mode": {
    "name": "ipython",
    "version": 3
   },
   "file_extension": ".py",
   "mimetype": "text/x-python",
   "name": "python",
   "nbconvert_exporter": "python",
   "pygments_lexer": "ipython3",
   "version": "3.7.7"
  }
 },
 "nbformat": 4,
 "nbformat_minor": 1
}