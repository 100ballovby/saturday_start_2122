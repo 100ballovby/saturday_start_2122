{
 "cells": [
  {
   "cell_type": "markdown",
   "metadata": {
    "collapsed": true,
    "pycharm": {
     "is_executing": true
    }
   },
   "source": [
    "## Кортежи переменных\n",
    "\n",
    "<p>Иногда переменным нужно присваивать одинаковые значения.</p>"
   ]
  },
  {
   "cell_type": "code",
   "execution_count": 1,
   "metadata": {},
   "outputs": [],
   "source": [
    "speed = x = y = 0"
   ]
  },
  {
   "cell_type": "markdown",
   "metadata": {},
   "source": [
    "<p>Трамвайное присваивание, когда все переменные ссыляются на один и тот же объект.</p>"
   ]
  },
  {
   "cell_type": "code",
   "execution_count": 3,
   "metadata": {},
   "outputs": [],
   "source": [
    "speed = 5; x = 3; y = 6"
   ]
  },
  {
   "cell_type": "markdown",
   "metadata": {},
   "source": [
    "<p>переменным можно присваивать значения через <code>;</code>, но так лучше не делать. Потому что есть кортеж переменных.</p>\n",
    "\n",
    "<p><b>Кортеж переменных</b> - множество имен ссылается на множество объектов. При записи кортежа объекты должны следовать в том же порядке, что и имена.</p>"
   ]
  },
  {
   "cell_type": "code",
   "execution_count": 5,
   "metadata": {},
   "outputs": [
    {
     "name": "stdout",
     "output_type": "stream",
     "text": [
      "x = 3\n",
      "y = 6\n",
      "speed = 5\n"
     ]
    }
   ],
   "source": [
    "x, y, speed = 3, 6, 5\n",
    "\n",
    "print('x =', x)\n",
    "print('y =', y)\n",
    "print('speed =', speed)"
   ]
  },
  {
   "cell_type": "markdown",
   "metadata": {},
   "source": [
    "## Задача:\n",
    "\n",
    "<p>Дата указана в неправильном формате: <code>YYYY-MM-DD Z HH:MM</code>. Где Z - это часовой пояс. Необходимо превратить дату в вид: <code>YYYY-MM-DD HH:MM</code>.</p>"
   ]
  },
  {
   "cell_type": "code",
   "execution_count": 8,
   "metadata": {},
   "outputs": [
    {
     "name": "stdout",
     "output_type": "stream",
     "text": [
      "2021-10-18 16:19\n"
     ]
    }
   ],
   "source": [
    "raw_date = '2021-10-18 GMT3 16:19'\n",
    "\n",
    "c_date, c_time = raw_date[0:10], raw_date[-6:] \n",
    "\n",
    "new_date = c_date + c_time\n",
    "print(new_date)"
   ]
  },
  {
   "cell_type": "markdown",
   "metadata": {},
   "source": [
    "## Обмен значений переменных "
   ]
  },
  {
   "cell_type": "code",
   "execution_count": 9,
   "metadata": {},
   "outputs": [],
   "source": [
    "x, y = 5, 6"
   ]
  },
  {
   "cell_type": "markdown",
   "metadata": {},
   "source": [
    "<p><code>x</code> должен стать 6, а <code>y</code> - 5.</p>"
   ]
  },
  {
   "cell_type": "code",
   "execution_count": 10,
   "metadata": {},
   "outputs": [
    {
     "name": "stdout",
     "output_type": "stream",
     "text": [
      "6 6\n"
     ]
    }
   ],
   "source": [
    "x = y\n",
    "y = x \n",
    "print(x, y)"
   ]
  },
  {
   "cell_type": "markdown",
   "metadata": {},
   "source": [
    "<p>Такой вариант не подходит, потому что при <code>x = y</code> теряется ссылка на объект <code>5<sub>int</sub></code>.</p>\n",
    "\n",
    "<p>Есть вариант обменять значения через 3 переменную:</p>"
   ]
  },
  {
   "cell_type": "code",
   "execution_count": 11,
   "metadata": {},
   "outputs": [
    {
     "name": "stdout",
     "output_type": "stream",
     "text": [
      "x = 6\n",
      "y = 5\n"
     ]
    }
   ],
   "source": [
    "x, y = 5, 6\n",
    "\n",
    "tmp = x  # tmp = 5 \n",
    "x = y  # x = 6\n",
    "y = tmp  # y = 5\n",
    "\n",
    "print('x =', x)\n",
    "print('y =', y)"
   ]
  },
  {
   "cell_type": "markdown",
   "metadata": {},
   "source": [
    "<p>Операцию по обмену значений переменных можно провоодить через кортежное присваивание:</p>"
   ]
  },
  {
   "cell_type": "code",
   "execution_count": 12,
   "metadata": {},
   "outputs": [
    {
     "name": "stdout",
     "output_type": "stream",
     "text": [
      "x = 6\n",
      "y = 5\n"
     ]
    }
   ],
   "source": [
    "x, y = 5, 6\n",
    "x, y = y, x\n",
    "\n",
    "print('x =', x)\n",
    "print('y =', y)"
   ]
  }
 ],
 "metadata": {
  "kernelspec": {
   "display_name": "Python 3 (ipykernel)",
   "language": "python",
   "name": "python3"
  },
  "language_info": {
   "codemirror_mode": {
    "name": "ipython",
    "version": 3
   },
   "file_extension": ".py",
   "mimetype": "text/x-python",
   "name": "python",
   "nbconvert_exporter": "python",
   "pygments_lexer": "ipython3",
   "version": "3.7.7"
  }
 },
 "nbformat": 4,
 "nbformat_minor": 1
}