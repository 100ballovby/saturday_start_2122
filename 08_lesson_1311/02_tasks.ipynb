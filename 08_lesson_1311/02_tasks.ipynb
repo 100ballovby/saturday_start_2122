{
 "cells": [
  {
   "cell_type": "markdown",
   "metadata": {
    "collapsed": true
   },
   "source": [
    "<p><b>Задача 1</b>. Даны натуральные числа от 35 до 87. Вывести те из них, которые при делении на 7 дают остаток 1, 2 или 5.</p>"
   ]
  },
  {
   "cell_type": "code",
   "execution_count": 2,
   "metadata": {},
   "outputs": [
    {
     "name": "stdout",
     "output_type": "stream",
     "text": [
      "36, 37, 40, 43, 44, 47, 50, 51, 54, 57, 58, 61, 64, 65, 68, 71, 72, 75, 78, 79, 82, 85, 86, "
     ]
    }
   ],
   "source": [
    "for i in range(35, 88):\n",
    "    if (i % 7) in [1, 2, 5]:\n",
    "        print(i, end=', ')"
   ]
  },
  {
   "cell_type": "markdown",
   "metadata": {},
   "source": [
    "<p><code>if (i % 7) in [1, 2, 5]:</code> - объяснение.</p>\n",
    "<p>В выражении <code>i % 7</code> вычисляется остаток от деления числа <code>i</code> на <code>7</code>. При помощи оператора <code>in</code>, который проверяет наличие элемента в коллекции, я проверяю, находится ли число-остаток от деления в списке нужных мне остатков. И, если да, вывожу его.</p>\n",
    "\n",
    "<hr>\n",
    "\n",
    "<p><b>Задача 2</b>. Найдите сумму  1+2+3+…+n, где число n вводится пользователем с клавиатуры.</p>"
   ]
  },
  {
   "cell_type": "code",
   "execution_count": 3,
   "metadata": {},
   "outputs": [
    {
     "name": "stdout",
     "output_type": "stream",
     "text": [
      "Введи число: 4\n",
      "10\n"
     ]
    }
   ],
   "source": [
    "summary = 0 \n",
    "n = int(input('Введи число: '))\n",
    "\n",
    "for i in range(1, n + 1):\n",
    "    summary += i \n",
    "    \n",
    "print(summary)"
   ]
  },
  {
   "cell_type": "markdown",
   "metadata": {},
   "source": [
    "<p>У задачи есть более короткое решение. Мне нужно всего лишь передать функцию <code>range()</code> функции <code>sum()</code>.</p>"
   ]
  },
  {
   "cell_type": "code",
   "execution_count": 4,
   "metadata": {},
   "outputs": [
    {
     "name": "stdout",
     "output_type": "stream",
     "text": [
      "Введи число: 4\n",
      "10\n"
     ]
    }
   ],
   "source": [
    "n = int(input('Введи число: '))\n",
    "\n",
    "print(sum(range(1, n + 1)))"
   ]
  },
  {
   "cell_type": "code",
   "execution_count": null,
   "metadata": {},
   "outputs": [],
   "source": []
  }
 ],
 "metadata": {
  "kernelspec": {
   "display_name": "Python 3 (ipykernel)",
   "language": "python",
   "name": "python3"
  },
  "language_info": {
   "codemirror_mode": {
    "name": "ipython",
    "version": 3
   },
   "file_extension": ".py",
   "mimetype": "text/x-python",
   "name": "python",
   "nbconvert_exporter": "python",
   "pygments_lexer": "ipython3",
   "version": "3.7.7"
  }
 },
 "nbformat": 4,
 "nbformat_minor": 1
}