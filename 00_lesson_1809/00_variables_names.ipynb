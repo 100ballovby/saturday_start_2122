{
 "cells": [
  {
   "cell_type": "markdown",
   "metadata": {
    "collapsed": true
   },
   "source": [
    "## Правила названий переменных\n",
    "\n",
    "<ol>\n",
    "    <li>Понятные слова. По имени переменной вы должны понимать, что она в себе хранит и для чего она используется.</li>\n",
    "    <li>Используйте только английские символы.</li>\n",
    "    <li>Нельзя использовать специальные символы: <code>!@#$%^&*()-+=/.,\\|{}[]~`</code>. <b>НО</b> можно использовать символ <code>_</code>.</li>\n",
    "    <li>Переменные можно называть несколькими словами. <strong>НЕ ПИШИТЕ СОЧИНЕНИЕ В НАЗВАНИИ ПЕРЕМЕННОЙ</strong> В этом случае нужно пользоваться:\n",
    "    <ol type='a'>\n",
    "        <li><code>CamelCase</code> - каждое новое слово в названии переменной должно начинать с большой буквы - <code>myPhoneNumber</code></li>\n",
    "        <li><code>snake_case</code> - каждое слово в названии переменной разделается символом <code>_</code>, например: <code>screen_height</code></li>\n",
    "    </ol>\n",
    "    </li>\n",
    "    <li>Придерживаться одного стиля названий.</li>\n",
    "</ol>"
   ]
  },
  {
   "cell_type": "code",
   "execution_count": null,
   "metadata": {},
   "outputs": [],
   "source": []
  }
 ],
 "metadata": {
  "kernelspec": {
   "display_name": "Python 3 (ipykernel)",
   "language": "python",
   "name": "python3"
  },
  "language_info": {
   "codemirror_mode": {
    "name": "ipython",
    "version": 3
   },
   "file_extension": ".py",
   "mimetype": "text/x-python",
   "name": "python",
   "nbconvert_exporter": "python",
   "pygments_lexer": "ipython3",
   "version": "3.7.7"
  }
 },
 "nbformat": 4,
 "nbformat_minor": 1
}