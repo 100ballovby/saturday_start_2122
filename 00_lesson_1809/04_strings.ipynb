{
 "cells": [
  {
   "cell_type": "markdown",
   "metadata": {
    "collapsed": true,
    "pycharm": {
     "is_executing": true
    }
   },
   "source": [
    "## Строки\n",
    "\n",
    "<p>Последовательность символов, заключенная в кавычки. У каждого символа в последовательности есть свой порядковый номер, который называется индексом. Индексы начинаются с <b>0</b>.</p>"
   ]
  },
  {
   "cell_type": "code",
   "execution_count": 1,
   "metadata": {},
   "outputs": [],
   "source": [
    "phrase = 'Привет! Я разработчик!'"
   ]
  },
  {
   "cell_type": "markdown",
   "metadata": {},
   "source": [
    "<p>Чтобы обратиться к индексу, нужно написать название переменной, в которой хранится строка, поставить [] и указать индекс элемента, с которым вы хотите что-то сделать.</p>"
   ]
  },
  {
   "cell_type": "code",
   "execution_count": 2,
   "metadata": {},
   "outputs": [
    {
     "name": "stdout",
     "output_type": "stream",
     "text": [
      "в\n"
     ]
    }
   ],
   "source": [
    "print(phrase[3])"
   ]
  },
  {
   "cell_type": "markdown",
   "metadata": {},
   "source": [
    "## Математические опреации со строками\n",
    "\n",
    "<p><code>+</code> - конкатенация / сложение строк. СТРОКИ МОЖНО СКЛАДЫВАТЬ ТОЛЬКО СО СТРОКАМИ</p>"
   ]
  },
  {
   "cell_type": "code",
   "execution_count": 3,
   "metadata": {},
   "outputs": [
    {
     "name": "stdout",
     "output_type": "stream",
     "text": [
      "c4\n"
     ]
    }
   ],
   "source": [
    "print('c' + '4')"
   ]
  },
  {
   "cell_type": "markdown",
   "metadata": {},
   "source": [
    "<p><code>*</code> - умножение строк. СТРОКИ МОЖНО УМНОЖАТЬ ТОЛЬКО НА ЧИСЛА</p>"
   ]
  },
  {
   "cell_type": "code",
   "execution_count": 4,
   "metadata": {},
   "outputs": [
    {
     "name": "stdout",
     "output_type": "stream",
     "text": [
      "aaaaa\n"
     ]
    }
   ],
   "source": [
    "print('a' * 5)"
   ]
  },
  {
   "cell_type": "markdown",
   "metadata": {},
   "source": [
    "<p><code>срез строки</code> - вырвать из строки подстроку.</p>\n",
    "<p>Чтобы сделать срез, надо написать название переменной, хранящей строку и прописать границы среза в квадратных скобках <code>name[0:5]</code>, точка остановки не включена в срез.</p>"
   ]
  },
  {
   "cell_type": "code",
   "execution_count": 7,
   "metadata": {},
   "outputs": [
    {
     "name": "stdout",
     "output_type": "stream",
     "text": [
      "Привет\n"
     ]
    }
   ],
   "source": [
    "print(phrase[0:6]) # подстрока Привет"
   ]
  },
  {
   "cell_type": "markdown",
   "metadata": {},
   "source": [
    "<p>Необязательно прописывать оба числа. Если нужно отрезать строку сначала, можно написать так <code>a[:5]</code> - вырезать сначала до 5 символа.</p>"
   ]
  },
  {
   "cell_type": "code",
   "execution_count": 8,
   "metadata": {},
   "outputs": [
    {
     "name": "stdout",
     "output_type": "stream",
     "text": [
      "Привет\n"
     ]
    }
   ],
   "source": [
    "print(phrase[:6])"
   ]
  },
  {
   "cell_type": "markdown",
   "metadata": {},
   "source": [
    "<p>Если нужно отрезать строку с определенного символа и до конца, можно написать так <code>a[8:]</code> - вырезать с 8 индекса до конца.</p>"
   ]
  },
  {
   "cell_type": "code",
   "execution_count": 10,
   "metadata": {},
   "outputs": [
    {
     "name": "stdout",
     "output_type": "stream",
     "text": [
      "разработчик!\n"
     ]
    }
   ],
   "source": [
    "print(phrase[10:])"
   ]
  },
  {
   "cell_type": "markdown",
   "metadata": {},
   "source": [
    "<p>Индексы могут быть отрицательными. Если вы не знаете длину строки, можно написать отрицательный индекс. Индекс -1 - это последний символ в строке.</p>"
   ]
  },
  {
   "cell_type": "code",
   "execution_count": 15,
   "metadata": {},
   "outputs": [
    {
     "name": "stdout",
     "output_type": "stream",
     "text": [
      "разработчик!\n"
     ]
    }
   ],
   "source": [
    "print(phrase[-12:])"
   ]
  },
  {
   "cell_type": "markdown",
   "metadata": {},
   "source": [
    "## Методы строк\n",
    "\n",
    "<p>Метод - это штука, которая либо модернизирует объект, либо добавляет дополнительный функционал.</p>\n",
    "<p><code>.lower()</code> - приводит все символы (кроме чисел) в строке в нижний регистр.</p>"
   ]
  },
  {
   "cell_type": "code",
   "execution_count": 20,
   "metadata": {},
   "outputs": [
    {
     "name": "stdout",
     "output_type": "stream",
     "text": [
      "Сначала выглядит так: GreatRaksin\n",
      "После преобразованя выглядит так: greatraksin\n",
      "Одинаковый ли юзернейм? True\n"
     ]
    }
   ],
   "source": [
    "user_name = 'greatraksin'\n",
    "user_name2 = 'GreatRaksin'\n",
    "\n",
    "print(f'Сначала выглядит так: {user_name2}')\n",
    "user_name2 = user_name2.lower()\n",
    "print(f'После преобразованя выглядит так: {user_name2}')\n",
    "\n",
    "print(f'Одинаковый ли юзернейм? {user_name == user_name2}')"
   ]
  },
  {
   "cell_type": "markdown",
   "metadata": {},
   "source": [
    "<p><code>.upper()</code> - приводит все символы (кроме чисел) в строке в верхний регистр.</p>"
   ]
  },
  {
   "cell_type": "code",
   "execution_count": 21,
   "metadata": {},
   "outputs": [
    {
     "name": "stdout",
     "output_type": "stream",
     "text": [
      "ПРИВЕТ! Я РАЗРАБОТЧИК!\n"
     ]
    }
   ],
   "source": [
    "print(phrase.upper())"
   ]
  },
  {
   "cell_type": "markdown",
   "metadata": {},
   "source": [
    "<p><code>.replace(a, b)</code> - заменяет символ <code>а</code> в строке символом <code>b</code>.</p>"
   ]
  },
  {
   "cell_type": "code",
   "execution_count": 26,
   "metadata": {},
   "outputs": [
    {
     "name": "stdout",
     "output_type": "stream",
     "text": [
      "Masherova, 11\n"
     ]
    }
   ],
   "source": [
    "house = 'Masherova, 33'\n",
    "print(house.replace('33', '11'))"
   ]
  },
  {
   "cell_type": "code",
   "execution_count": 27,
   "metadata": {},
   "outputs": [
    {
     "name": "stdout",
     "output_type": "stream",
     "text": [
      "Привет! Я разпианист!\n"
     ]
    }
   ],
   "source": [
    "print(phrase.replace('работчик', 'пианист'))"
   ]
  },
  {
   "cell_type": "markdown",
   "metadata": {},
   "source": [
    "<p><code>.islower()</code> - проверяет, являются ли все символы в строке маленькими.</p>"
   ]
  },
  {
   "cell_type": "code",
   "execution_count": 29,
   "metadata": {},
   "outputs": [
    {
     "name": "stdout",
     "output_type": "stream",
     "text": [
      "True\n"
     ]
    }
   ],
   "source": [
    "print('f'.islower())"
   ]
  },
  {
   "cell_type": "markdown",
   "metadata": {},
   "source": [
    "<p><code>.isupper()</code> - проверяет, являются ли все символы в строке большими.</p>"
   ]
  },
  {
   "cell_type": "code",
   "execution_count": 30,
   "metadata": {},
   "outputs": [
    {
     "name": "stdout",
     "output_type": "stream",
     "text": [
      "True\n"
     ]
    }
   ],
   "source": [
    "print('F'.isupper())"
   ]
  },
  {
   "cell_type": "markdown",
   "metadata": {},
   "source": [
    "<p><code>.strip()</code> - отрезает ВСЕ пробелы по краям строки.</p>"
   ]
  },
  {
   "cell_type": "code",
   "execution_count": 35,
   "metadata": {},
   "outputs": [
    {
     "name": "stdout",
     "output_type": "stream",
     "text": [
      "Пробелы есть: \"  Привет, Андрей! Зачем ты плюнул в голубей?            \".\n",
      "Пробелов нет: \"Привет, Андрей! Зачем ты плюнул в голубей?\".\n"
     ]
    }
   ],
   "source": [
    "phrase2 = '  Привет, Андрей! Зачем ты плюнул в голубей?            '\n",
    "print(f'Пробелы есть: \"{phrase2}\".')\n",
    "print(f'Пробелов нет: \"{phrase2.strip()}\".')"
   ]
  }
 ],
 "metadata": {
  "kernelspec": {
   "display_name": "Python 3 (ipykernel)",
   "language": "python",
   "name": "python3"
  },
  "language_info": {
   "codemirror_mode": {
    "name": "ipython",
    "version": 3
   },
   "file_extension": ".py",
   "mimetype": "text/x-python",
   "name": "python",
   "nbconvert_exporter": "python",
   "pygments_lexer": "ipython3",
   "version": "3.7.7"
  }
 },
 "nbformat": 4,
 "nbformat_minor": 1
}