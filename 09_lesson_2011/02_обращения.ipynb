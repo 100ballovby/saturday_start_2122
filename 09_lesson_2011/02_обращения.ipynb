{
 "cells": [
  {
   "cell_type": "markdown",
   "metadata": {
    "collapsed": true
   },
   "source": [
    "## Обращение к элементам словаря\n",
    "\n",
    "<p>Словарь не обязательно должен хранить пары одного типа данных. Более того, у вас есть вомзожность сохранить в словаре другой словарь и даже список.</p>\n",
    "\n",
    "<p>Создадим словарь-книгу контактов: </p>"
   ]
  },
  {
   "cell_type": "code",
   "execution_count": 2,
   "metadata": {},
   "outputs": [],
   "source": [
    "contacts = {\n",
    "    'mom': {\n",
    "        'phone': '+375291234567',\n",
    "        'email': {\n",
    "            'work': 'mom@gmail.com',\n",
    "            'private': 'hhh@gmail.com',\n",
    "        },\n",
    "        'birthday': '30.09.1970',\n",
    "    },\n",
    "    'father': {\n",
    "        'phone': ['+375293456789', '+375337654738'],\n",
    "        'email': 'father@gmail.com',\n",
    "        'birthday': '18.12.1967',\n",
    "    },\n",
    "    'sister': {\n",
    "        'phone': '+375445550100',\n",
    "        'email': 'sister@gmail.com',\n",
    "        'birthday': '13.08.2005',\n",
    "    },\n",
    "}"
   ]
  },
  {
   "cell_type": "markdown",
   "metadata": {},
   "source": [
    "<p>Мы уже знаем, что для того, чтобы получить значение ключа, нужноо написать имя словаря, затем ключ в квадратных скобках.</p>"
   ]
  },
  {
   "cell_type": "code",
   "execution_count": 3,
   "metadata": {},
   "outputs": [
    {
     "name": "stdout",
     "output_type": "stream",
     "text": [
      "{'phone': '+375445550100', 'email': 'sister@gmail.com', 'birthday': '13.08.2005'}\n"
     ]
    }
   ],
   "source": [
    "print(contacts['sister'])"
   ]
  },
  {
   "cell_type": "markdown",
   "metadata": {},
   "source": [
    "<p>Когда ваш словарь имеет вложенные элементы, важно правильно строить структуру обращения. Например: я хочу получить рабочий email телефона контакта <code>mom</code>.</p>"
   ]
  },
  {
   "cell_type": "code",
   "execution_count": 4,
   "metadata": {},
   "outputs": [
    {
     "name": "stdout",
     "output_type": "stream",
     "text": [
      "mom@gmail.com\n"
     ]
    }
   ],
   "source": [
    "print(contacts['mom']['email']['work'])"
   ]
  },
  {
   "cell_type": "markdown",
   "metadata": {},
   "source": [
    "<p>Структура обращения следующая:</p>\n",
    "\n",
    "<ul>\n",
    "    <li>Обращение к ключу <code>mom</code> отдаст мне словарь, который лежит внутри этого ключа;</li>\n",
    "    <li>Так как меня интересует только email, я ставлю вторую пару квадратных скобок и пишу новый ключ: <code>email</code>;</li>\n",
    "    <li>В результате я получил еще один словарь, состоящий из ключей <code>'work'</code> и <code>private</code>. Так как меня интересует рабочий, я ввожу еще один ключ: <code>work</code>.</li>\n",
    "</ul>"
   ]
  },
  {
   "cell_type": "code",
   "execution_count": 5,
   "metadata": {},
   "outputs": [
    {
     "name": "stdout",
     "output_type": "stream",
     "text": [
      "{'phone': '+375291234567', 'email': {'work': 'mom@gmail.com', 'private': 'hhh@gmail.com'}, 'birthday': '30.09.1970'}\n"
     ]
    }
   ],
   "source": [
    "print(contacts['mom'])"
   ]
  },
  {
   "cell_type": "code",
   "execution_count": 6,
   "metadata": {},
   "outputs": [
    {
     "name": "stdout",
     "output_type": "stream",
     "text": [
      "{'work': 'mom@gmail.com', 'private': 'hhh@gmail.com'}\n"
     ]
    }
   ],
   "source": [
    "print(contacts['mom']['email'])"
   ]
  },
  {
   "cell_type": "code",
   "execution_count": 7,
   "metadata": {},
   "outputs": [
    {
     "name": "stdout",
     "output_type": "stream",
     "text": [
      "mom@gmail.com\n"
     ]
    }
   ],
   "source": [
    "print(contacts['mom']['email']['work'])"
   ]
  },
  {
   "cell_type": "markdown",
   "metadata": {},
   "source": [
    "<p>Более интересное обращение будет к ключу <code>father</code>, потому что у него два номера телефона, но они не подписаны. Они находятся в списке. Допустим, мне нужен второй номер:</p>"
   ]
  },
  {
   "cell_type": "code",
   "execution_count": 8,
   "metadata": {},
   "outputs": [
    {
     "name": "stdout",
     "output_type": "stream",
     "text": [
      "+375337654738\n"
     ]
    }
   ],
   "source": [
    "print(contacts['father']['phone'][1])"
   ]
  },
  {
   "cell_type": "markdown",
   "metadata": {},
   "source": [
    "<p>Структура обращения следующая:</p>\n",
    "\n",
    "<ul>\n",
    "    <li>Обращение к ключу <code>father</code> отдаст мне словарь, который лежит внутри этого ключа;</li>\n",
    "    <li>Так как меня интересует только телефон, я ставлю вторую пару квадратных скобок и пишу новый ключ: <code>phone</code>;</li>\n",
    "    <li>В результате я получил список, состоящий из двух элементов. Так как меня интересует второй элемент, я ввожу в квадратных скобках индекс этого элемента: <code>[1]</code>.</li>\n",
    "</ul>"
   ]
  },
  {
   "cell_type": "code",
   "execution_count": 9,
   "metadata": {},
   "outputs": [
    {
     "name": "stdout",
     "output_type": "stream",
     "text": [
      "{'phone': ['+375293456789', '+375337654738'], 'email': 'father@gmail.com', 'birthday': '18.12.1967'}\n"
     ]
    }
   ],
   "source": [
    "print(contacts['father'])"
   ]
  },
  {
   "cell_type": "code",
   "execution_count": 11,
   "metadata": {},
   "outputs": [
    {
     "name": "stdout",
     "output_type": "stream",
     "text": [
      "['+375293456789', '+375337654738']\n"
     ]
    }
   ],
   "source": [
    "print(contacts['father']['phone'])"
   ]
  },
  {
   "cell_type": "code",
   "execution_count": 12,
   "metadata": {},
   "outputs": [
    {
     "name": "stdout",
     "output_type": "stream",
     "text": [
      "+375337654738\n"
     ]
    }
   ],
   "source": [
    "print(contacts['father']['phone'][1])"
   ]
  }
 ],
 "metadata": {
  "kernelspec": {
   "display_name": "Python 3 (ipykernel)",
   "language": "python",
   "name": "python3"
  },
  "language_info": {
   "codemirror_mode": {
    "name": "ipython",
    "version": 3
   },
   "file_extension": ".py",
   "mimetype": "text/x-python",
   "name": "python",
   "nbconvert_exporter": "python",
   "pygments_lexer": "ipython3",
   "version": "3.7.7"
  }
 },
 "nbformat": 4,
 "nbformat_minor": 1
}