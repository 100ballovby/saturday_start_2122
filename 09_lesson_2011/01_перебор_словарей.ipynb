{
 "cells": [
  {
   "cell_type": "markdown",
   "metadata": {
    "collapsed": true
   },
   "source": [
    "## Перебор словарей \n",
    "\n",
    "<p>Для перебора словарей нам понадобятся циклы.</p>\n",
    "\n",
    "<p>Для начала создадим словарь:</p>"
   ]
  },
  {
   "cell_type": "code",
   "execution_count": 1,
   "metadata": {},
   "outputs": [],
   "source": [
    "fav_lang = {\n",
    "    'Jerry': 'C++',\n",
    "    'Mike': 'Java',\n",
    "    'Sarah': 'JS',\n",
    "    'Nicolas': 'Python'\n",
    "}"
   ]
  },
  {
   "cell_type": "markdown",
   "metadata": {},
   "source": [
    "<p>Чтобы перебрать ключи словаря, нужно вызвать метод <code>.keys()</code>. Он возвращает список всех ключей.</p>"
   ]
  },
  {
   "cell_type": "code",
   "execution_count": 2,
   "metadata": {},
   "outputs": [
    {
     "name": "stdout",
     "output_type": "stream",
     "text": [
      "dict_keys(['Jerry', 'Mike', 'Sarah', 'Nicolas'])\n"
     ]
    }
   ],
   "source": [
    "print(fav_lang.keys())"
   ]
  },
  {
   "cell_type": "markdown",
   "metadata": {},
   "source": [
    "<p>Для перебора, я вставляю ключи словаря в качестве последовательности для цикла <code>for</code></p>"
   ]
  },
  {
   "cell_type": "code",
   "execution_count": 3,
   "metadata": {},
   "outputs": [
    {
     "name": "stdout",
     "output_type": "stream",
     "text": [
      "Ключ: Jerry;\n",
      "Ключ: Mike;\n",
      "Ключ: Sarah;\n",
      "Ключ: Nicolas;\n"
     ]
    }
   ],
   "source": [
    "for key in fav_lang.keys():\n",
    "    print(f'Ключ: {key};')"
   ]
  },
  {
   "cell_type": "markdown",
   "metadata": {},
   "source": [
    "<p>Чтобы перебрать значения словаря, нужно вызвать метод <code>.values()</code>. Он возвращает список всех значений.</p>"
   ]
  },
  {
   "cell_type": "code",
   "execution_count": 4,
   "metadata": {},
   "outputs": [
    {
     "name": "stdout",
     "output_type": "stream",
     "text": [
      "dict_values(['C++', 'Java', 'JS', 'Python'])\n"
     ]
    }
   ],
   "source": [
    "print(fav_lang.values())"
   ]
  },
  {
   "cell_type": "markdown",
   "metadata": {},
   "source": [
    "<p>Для перебора, я вставляю значения словаря в качестве последовательности для цикла <code>for</code></p>"
   ]
  },
  {
   "cell_type": "code",
   "execution_count": 5,
   "metadata": {},
   "outputs": [
    {
     "name": "stdout",
     "output_type": "stream",
     "text": [
      "Значение: C++;\n",
      "Значение: Java;\n",
      "Значение: JS;\n",
      "Значение: Python;\n"
     ]
    }
   ],
   "source": [
    "for value in fav_lang.values():\n",
    "    print(f'Значение: {value};')"
   ]
  },
  {
   "cell_type": "markdown",
   "metadata": {},
   "source": [
    "<p>Перебирать можно одновременно и ключи, и значения. Для этого циклу <code>for</code> нужно создать 2 управляющие переменные и воспользоваться методом <code>.items()</code></p>"
   ]
  },
  {
   "cell_type": "code",
   "execution_count": 7,
   "metadata": {},
   "outputs": [
    {
     "name": "stdout",
     "output_type": "stream",
     "text": [
      "Jerry's favorite language is C++.\n",
      "Mike's favorite language is Java.\n",
      "Sarah's favorite language is JS.\n",
      "Nicolas's favorite language is Python.\n"
     ]
    }
   ],
   "source": [
    "for key, value in fav_lang.items():\n",
    "    print(f\"{key}'s favorite language is {value}.\")"
   ]
  },
  {
   "cell_type": "markdown",
   "metadata": {},
   "source": [
    "<p>Метод <code>.items()</code> возвращает кортеж, состоящий из ключа и значения в словаре. Чтобы распаковать эти значения, мне нужно поставить две переменные в цикл <code>for</code>.</p>"
   ]
  },
  {
   "cell_type": "code",
   "execution_count": 10,
   "metadata": {},
   "outputs": [
    {
     "name": "stdout",
     "output_type": "stream",
     "text": [
      "dict_items([('Jerry', 'C++'), ('Mike', 'Java'), ('Sarah', 'JS'), ('Nicolas', 'Python')])\n"
     ]
    }
   ],
   "source": [
    "print(fav_lang.items())"
   ]
  }
 ],
 "metadata": {
  "kernelspec": {
   "display_name": "Python 3 (ipykernel)",
   "language": "python",
   "name": "python3"
  },
  "language_info": {
   "codemirror_mode": {
    "name": "ipython",
    "version": 3
   },
   "file_extension": ".py",
   "mimetype": "text/x-python",
   "name": "python",
   "nbconvert_exporter": "python",
   "pygments_lexer": "ipython3",
   "version": "3.7.7"
  }
 },
 "nbformat": 4,
 "nbformat_minor": 1
}