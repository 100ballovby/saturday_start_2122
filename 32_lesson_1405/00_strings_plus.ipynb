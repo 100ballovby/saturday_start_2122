{
 "cells": [
  {
   "cell_type": "markdown",
   "metadata": {
    "collapsed": true,
    "pycharm": {
     "name": "#%%\n"
    }
   },
   "source": [
    "# Строки  <code>&lt;class 'str'&gt;</code>\n",
    "\n",
    "<p><b>Строки</b> - любая последовательность символов, заключенная в кавыччки. Тип кавычек значения не имеет - можно использовать <code>''</code>, можно использовать <code>\"\"</code>. <b>Кавчки должны быть одинакового типа.</b> Если строка началась с символа <code>\"</code>, им же она и должна закончиться.</p>"
   ]
  },
  {
   "cell_type": "code",
   "execution_count": 3,
   "metadata": {},
   "outputs": [
    {
     "name": "stdout",
     "output_type": "stream",
     "text": [
      "<class 'str'>\n"
     ]
    }
   ],
   "source": [
    "phrase = 'Hello, world!'\n",
    "\n",
    "print(type(phrase))"
   ]
  },
  {
   "cell_type": "markdown",
   "metadata": {},
   "source": [
    "<p>Строки - индексируемые объекты. То есть у каждого символа строки (даже если это пробел) есть свой порядковый номер, который называется <b>индексом</b>. Строка - это как список, но с меньшим количеством возможностей.</p>"
   ]
  },
  {
   "cell_type": "code",
   "execution_count": 4,
   "metadata": {},
   "outputs": [
    {
     "ename": "SyntaxError",
     "evalue": "unterminated string literal (detected at line 1) (2474074833.py, line 1)",
     "output_type": "error",
     "traceback": [
      "\u001B[0;36m  Input \u001B[0;32mIn [4]\u001B[0;36m\u001B[0m\n\u001B[0;31m    phrase = 'Hello, I'm a Python developer'\u001B[0m\n\u001B[0m                                           ^\u001B[0m\n\u001B[0;31mSyntaxError\u001B[0m\u001B[0;31m:\u001B[0m unterminated string literal (detected at line 1)\n"
     ]
    }
   ],
   "source": [
    "phrase = 'Hello, I'm a Python developer'"
   ]
  },
  {
   "cell_type": "markdown",
   "metadata": {},
   "source": [
    "<p>Для Python в примере выше строка заканчивается после буквы <code>I</code>, а новая строчка начинается после буквы <code>r</code>. Все, что находится между двух кавычек, будет воспринято как отдельные не объявленные переменные.</p>\n",
    "\n",
    "<p>Чтобы избежать:</p>\n",
    "\n",
    "<ol>\n",
    "    <li>Использовать разные типы кавычек в строке: <code>\"Hello, I'm a Python developer\"</code></li>\n",
    "    <li>Можно использовать символ экранирования - <code>\\</code>. Символ экранирования говорит Python о том, что следующий за ним символ нужно игнорировать и никак не воспринимать (*)</li>\n",
    "</ol>"
   ]
  },
  {
   "cell_type": "code",
   "execution_count": 5,
   "metadata": {},
   "outputs": [
    {
     "name": "stdout",
     "output_type": "stream",
     "text": [
      "Hello, I'm a Python developer\n"
     ]
    }
   ],
   "source": [
    "phrase = 'Hello, I\\'m a Python developer'\n",
    "\n",
    "print(phrase)"
   ]
  },
  {
   "cell_type": "code",
   "execution_count": 6,
   "metadata": {},
   "outputs": [
    {
     "name": "stdout",
     "output_type": "stream",
     "text": [
      "Hello, I'm a Python developer\n"
     ]
    }
   ],
   "source": [
    "phrase = \"Hello, I'm a Python developer\"\n",
    "\n",
    "print(phrase)"
   ]
  },
  {
   "cell_type": "markdown",
   "metadata": {},
   "source": [
    "## Операции со строчками\n",
    "\n",
    "<p>Со строками вы можете выполнять следующие операции</p>\n",
    "<ul>\n",
    "    <li>Сложение строк со строками.</li>\n",
    "    <li>Умножение строки на число.</li>\n",
    "</ul>"
   ]
  },
  {
   "cell_type": "code",
   "execution_count": 7,
   "metadata": {},
   "outputs": [
    {
     "name": "stdout",
     "output_type": "stream",
     "text": [
      "машина\n"
     ]
    }
   ],
   "source": [
    "a = 'ма'\n",
    "b = 'шина'\n",
    "\n",
    "print(a + b)"
   ]
  },
  {
   "cell_type": "code",
   "execution_count": 8,
   "metadata": {},
   "outputs": [
    {
     "name": "stdout",
     "output_type": "stream",
     "text": [
      "aaaaa\n"
     ]
    }
   ],
   "source": [
    "c = 'a'\n",
    "\n",
    "print(c * 5)"
   ]
  },
  {
   "cell_type": "markdown",
   "metadata": {},
   "source": [
    "### Деление и разность\n",
    "\n",
    "<p>Деление и разность со строками <b>невозможны</b> в силу того, что строки - неизменяемые объекты.</p>\n",
    "\n",
    "<hr>\n",
    "\n",
    "### Разрезание строк \n",
    "\n",
    "<p>Строки нельзя делить, но их можно разрезать. Для того, чтобы разрезать строчку, рядом с переменной, которая ее хранит, нужно поставить квадратные скобки и указать промежуток из индексов, в рамках которого вы хотите разрезать строку.</p>"
   ]
  },
  {
   "cell_type": "code",
   "execution_count": 9,
   "metadata": {},
   "outputs": [
    {
     "name": "stdout",
     "output_type": "stream",
     "text": [
      "Python\n"
     ]
    }
   ],
   "source": [
    "phrase = \"Hello, I'm a Python developer\"\n",
    "\n",
    "# Вырежим слово Python\n",
    "print(phrase[13:19])"
   ]
  },
  {
   "cell_type": "markdown",
   "metadata": {},
   "source": [
    "<p>Если вы хотите обрезать строчку с начала до символа <b>n</b>, то начальный индекс можно не указывать - <code>a[:n]</code> - строчка автоматически разрезается с начала до указанного индекса.</p>"
   ]
  },
  {
   "cell_type": "code",
   "execution_count": 10,
   "metadata": {},
   "outputs": [
    {
     "name": "stdout",
     "output_type": "stream",
     "text": [
      "Hello\n"
     ]
    }
   ],
   "source": [
    "print(phrase[:5])"
   ]
  },
  {
   "cell_type": "markdown",
   "metadata": {},
   "source": [
    "<p>Если вы хотите обрезать строчку с символа <b>n</b> и до конца, то конечный индекс можно не указывать - <code>a[n:]</code> - строчка автоматически разрезается с указанного символа до конца.</p>"
   ]
  },
  {
   "cell_type": "code",
   "execution_count": 11,
   "metadata": {},
   "outputs": [
    {
     "name": "stdout",
     "output_type": "stream",
     "text": [
      "developer\n"
     ]
    }
   ],
   "source": [
    "print(phrase[20:])"
   ]
  },
  {
   "cell_type": "markdown",
   "metadata": {},
   "source": [
    "## Индексы\n",
    "\n",
    "<p>Так как у каждого символа в строке есть свой порядковый номер, вы можете к ним обращаться и выводить их.</p>"
   ]
  },
  {
   "cell_type": "code",
   "execution_count": 12,
   "metadata": {},
   "outputs": [
    {
     "name": "stdout",
     "output_type": "stream",
     "text": [
      "H\n"
     ]
    }
   ],
   "source": [
    "a = 'Hello!'\n",
    "\n",
    "print(a[0])  # вывести символ с индексом 0"
   ]
  },
  {
   "cell_type": "markdown",
   "metadata": {},
   "source": [
    "<p>Вы не можете заменить элемент в строке, обратившись к нему по индексу.</p>"
   ]
  },
  {
   "cell_type": "code",
   "execution_count": 13,
   "metadata": {},
   "outputs": [
    {
     "ename": "TypeError",
     "evalue": "'str' object does not support item assignment",
     "output_type": "error",
     "traceback": [
      "\u001B[0;31m---------------------------------------------------------------------------\u001B[0m",
      "\u001B[0;31mTypeError\u001B[0m                                 Traceback (most recent call last)",
      "Input \u001B[0;32mIn [13]\u001B[0m, in \u001B[0;36m<cell line: 1>\u001B[0;34m()\u001B[0m\n\u001B[0;32m----> 1\u001B[0m a[\u001B[38;5;241m4\u001B[39m] \u001B[38;5;241m=\u001B[39m \u001B[38;5;124m'\u001B[39m\u001B[38;5;124m0\u001B[39m\u001B[38;5;124m'\u001B[39m\n",
      "\u001B[0;31mTypeError\u001B[0m: 'str' object does not support item assignment"
     ]
    }
   ],
   "source": [
    "a[4] = '0'"
   ]
  },
  {
   "cell_type": "markdown",
   "metadata": {},
   "source": [
    "<p><b>Строка - неизменяемый объект и не поддерживает замену элементов по индексу.</b></p>\n",
    "\n",
    "## Отрицательные индексы\n",
    "\n",
    "<p>Если строка длинная, а вам нужно получить из нее последнее слово или найти последний символ в строке, вам будет неудобно их считать с самого начала. Поэтому была реализована система отрицательных индексов.</p>\n",
    "\n",
    "<p>В строке <code>'hello'</code> у буквы <code>h</code> индекс <code>0</code>, а у буквы <code>o</code> - <code>-1</code></p>"
   ]
  },
  {
   "cell_type": "code",
   "execution_count": 16,
   "metadata": {},
   "outputs": [
    {
     "name": "stdout",
     "output_type": "stream",
     "text": [
      "виделись\n"
     ]
    }
   ],
   "source": [
    "phrase2 = 'Привет! Как у тебя дела? Давно не виделись!'\n",
    "\n",
    "print(phrase2[-9:-1])"
   ]
  },
  {
   "cell_type": "markdown",
   "metadata": {},
   "source": [
    "# Методы строк\n",
    "\n",
    "<p>В отличие от большого количества типов данных строка имеет достаточное большое количество методов (функций), которые могут изменять строку, форматировать ее и выполнять с ней другие действия.</p>\n",
    "\n",
    "### <code>len()</code> - измерение длины строки\n",
    "\n",
    "<p>Функция применяется к строке и возвращает число, равное количеству символов в этой строчке.</p>"
   ]
  },
  {
   "cell_type": "code",
   "execution_count": 18,
   "metadata": {},
   "outputs": [
    {
     "name": "stdout",
     "output_type": "stream",
     "text": [
      "11\n"
     ]
    }
   ],
   "source": [
    "print(len('абракадабра'))"
   ]
  },
  {
   "cell_type": "markdown",
   "metadata": {},
   "source": [
    "### Методы изменения строки\n",
    "\n",
    "<p>Существует группа методов, способная изменять внешний вид строки. Для применения этих методов их нужно написать через точку после обращения к переменной, хранящей строку - <code>a.method()</code>.</p>\n",
    "\n",
    "<ul>\n",
    "    <li><code>.upper()</code> - переводит все символы (только буквы) в строке в верхний регистр (делает их большими);</li>\n",
    "    <li><code>.lower()</code> - переводит все символы (только буквы) в строке в нижний регистр (делает их маленькими);</li>\n",
    "    <li><code>.title()</code> - переводит все символы (только буквы) в строке в нижний регистр, но каждое новое слово пишется с большой буквы;</li>\n",
    "    <li><code>.capitalize()</code> - переводит первый символ строки в верхний регистр, а все остальные в нижний.</li>\n",
    "</ul>"
   ]
  },
  {
   "cell_type": "code",
   "execution_count": 19,
   "metadata": {},
   "outputs": [
    {
     "name": "stdout",
     "output_type": "stream",
     "text": [
      ".upper(): HELLO, WORLD!\n",
      ".lower(): hello, world!\n",
      ".title(): Hello, World!\n",
      ".capitalize(): Hello, world!\n"
     ]
    }
   ],
   "source": [
    "phrase3 = 'HeLlO, wOrLd!'\n",
    "\n",
    "print(f'.upper(): {phrase3.upper()}')\n",
    "print(f'.lower(): {phrase3.lower()}')\n",
    "print(f'.title(): {phrase3.title()}')\n",
    "print(f'.capitalize(): {phrase3.capitalize()}')"
   ]
  },
  {
   "cell_type": "markdown",
   "source": [
    "### Методы проверки символов/строки\n",
    "\n",
    "<p>Существует группа методов, позволяющая проверить строку на наличие каких-либо символов или на соответствие какому-то условию. Методы проверки символов:</p>\n",
    "\n",
    "<ul>\n",
    "    <li><code>.isupper()</code> - проверяет, является ли символ большой буквой.</li>\n",
    "    <li><code>.islower()</code> - проверяет, является ли символ маленькой буквой.</li>\n",
    "    <li><code>.isdigit()</code> - проверяет, является ли символ цифрой.</li>\n",
    "    <li><code>.isprintable()</code> - проверяет, является ли символ каким-то печатным символом (знаки препинания и специальные значки на клавиатуре).</li>\n",
    "</ul>"
   ],
   "metadata": {
    "collapsed": false,
    "pycharm": {
     "name": "#%% md\n"
    }
   }
  },
  {
   "cell_type": "code",
   "execution_count": null,
   "outputs": [],
   "source": [
    "print(f'A.isupper(): {\"A\".isupper()}')\n",
    "print(f'a.islower(): {\"a\".islower()}')\n",
    "print(f'5.isdigit(): {\"5\".isdigit()}')\n",
    "print(f'!.isprintable(): {\"!\".isprintable()}')"
   ],
   "metadata": {
    "collapsed": false,
    "pycharm": {
     "name": "#%%\n"
    }
   }
  },
  {
   "cell_type": "markdown",
   "source": [
    "<p>Есть методы, способные проверять, начинается ли строка с определенного символа или последовательности символов или наоборот - заканчивается ли строка определенным символом или последовательностью символов.</p>\n",
    "\n",
    "<ul>\n",
    "    <li><code>.startswith(seq)</code> - проверяет, начинается ли строчка с указанного символа <code>seq</code>.</li>\n",
    "    <li><code>.endswith(seq)</code> - проверяет, заканчивается ли строчка указанным символом <code>seq</code>.</li>\n",
    "</ul>"
   ],
   "metadata": {
    "collapsed": false,
    "pycharm": {
     "name": "#%% md\n"
    }
   }
  },
  {
   "cell_type": "code",
   "execution_count": null,
   "outputs": [],
   "source": [
    "greeting = 'Hello! My name is Demid!'\n",
    "\n",
    "if greeting.startswith('Hello'):\n",
    "    print('Hello!')\n",
    "else:\n",
    "    print('Where is your \"Hello\"?')"
   ],
   "metadata": {
    "collapsed": false,
    "pycharm": {
     "name": "#%%\n"
    }
   }
  },
  {
   "cell_type": "markdown",
   "source": [
    "<p>Метода, который проверяет, содержит ли строчка какие-то значения, не существует. Но есть оператор, который позволяет это проверить - <code>in</code>.</p>"
   ],
   "metadata": {
    "collapsed": false,
    "pycharm": {
     "name": "#%% md\n"
    }
   }
  },
  {
   "cell_type": "code",
   "execution_count": null,
   "outputs": [],
   "source": [
    "print('My' in greeting)"
   ],
   "metadata": {
    "collapsed": false,
    "pycharm": {
     "name": "#%%\n"
    }
   }
  },
  {
   "cell_type": "markdown",
   "source": [
    "### Метод разделения строки на элементы\n",
    "\n",
    "<p><code>.split(<b>разделитель</b>)</code> - разбирает строчку на элементы по указанному разделителю и возвращает список. состоящий из элементов строки. Если не указать разделитель для метода, по умолчанию строка будет биться по пробелам.</p>"
   ],
   "metadata": {
    "collapsed": false,
    "pycharm": {
     "name": "#%% md\n"
    }
   }
  },
  {
   "cell_type": "code",
   "execution_count": null,
   "outputs": [],
   "source": [
    "phrase3 = 'Привет, Андрей! Зачем ты плюнул в голубей?'\n",
    "\n",
    "print(phrase3.split())"
   ],
   "metadata": {
    "collapsed": false,
    "pycharm": {
     "name": "#%%\n"
    }
   }
  },
  {
   "cell_type": "code",
   "execution_count": null,
   "outputs": [],
   "source": [
    "cars = 'Audi,BMW,Mercedes,Skoda,Lexus,BelAZ'\n",
    "\n",
    "print(cars.split(','))"
   ],
   "metadata": {
    "collapsed": false,
    "pycharm": {
     "name": "#%%\n"
    }
   }
  },
  {
   "cell_type": "markdown",
   "source": [
    "### Замена символов строки\n",
    "\n",
    "<p>Вы не можете заменить символо в строке по индексу, но вы можете заменить его, используя метод <code>.replace(<b>что_менять</b>, <b>на_что_менять</b>)</code>.</p>"
   ],
   "metadata": {
    "collapsed": false,
    "pycharm": {
     "name": "#%% md\n"
    }
   }
  },
  {
   "cell_type": "code",
   "execution_count": null,
   "outputs": [],
   "source": [
    "phrase4 = 'Мама мыла раму. Где мама?'\n",
    "\n",
    "print(phrase4.replace('а', '@'))"
   ],
   "metadata": {
    "collapsed": false,
    "pycharm": {
     "name": "#%%\n"
    }
   }
  },
  {
   "cell_type": "code",
   "execution_count": null,
   "outputs": [],
   "source": [
    "phrase5 = 'I love C++!'\n",
    "\n",
    "print(phrase5.replace('C++', 'Python'))"
   ],
   "metadata": {
    "collapsed": false,
    "pycharm": {
     "name": "#%%\n"
    }
   }
  },
  {
   "cell_type": "markdown",
   "source": [
    "### Сравнение строк\n",
    "\n",
    "<p>Строки можно сравнивать с помощью стандартных операторов сравнения: <code>&gt;, &lt;, ==, !=, &lt;=, &gt;=</code>.</p>\n",
    "<p>Строки сравниваются не так, как сравниваются числа.</p>"
   ],
   "metadata": {
    "collapsed": false,
    "pycharm": {
     "name": "#%% md\n"
    }
   }
  },
  {
   "cell_type": "code",
   "execution_count": null,
   "outputs": [],
   "source": [
    "animal1 = 'elephant'\n",
    "animal2 = 'mouse'\n",
    "\n",
    "print(animal1 < animal2)"
   ],
   "metadata": {
    "collapsed": false,
    "pycharm": {
     "name": "#%%\n"
    }
   }
  },
  {
   "cell_type": "markdown",
   "source": [
    "<p>При сравнении строк во внимание берется <b>только</b> положение буквы из строки в алфавите. Строки сравниваются посимвольно, пока не будет найдено различие. В нашем случае различие идет уже с первого символа. Так как порядковый номер буквы <code>e</code> меньше (она раньше расположена), чем порядковый номер буквы <code>m</code>, операция сравнения говорит о том, что слон меньше мыши.</p>"
   ],
   "metadata": {
    "collapsed": false,
    "pycharm": {
     "name": "#%% md\n"
    }
   }
  },
  {
   "cell_type": "code",
   "execution_count": null,
   "outputs": [],
   "source": [
    "animal1 = 'elephant'\n",
    "animal2 = 'elephand'\n",
    "\n",
    "print(animal1 < animal2)"
   ],
   "metadata": {
    "collapsed": false,
    "pycharm": {
     "name": "#%%\n"
    }
   }
  },
  {
   "cell_type": "markdown",
   "source": [
    "<p>Чтобы определять \"порядковые номера\" букв, используются числовые коды таблицы <b>ASCII</b> - это специальная таблица всех клавиатурных символов. Компьютер не распознает лигатуры (картинка буквы), которые вы видите на экране. Для него каждый символ - это числовоой код из таблицы. Чтобы узнать эти числовые коды используется метод <code>ord(<b>символ</b>)</code>.</p>"
   ],
   "metadata": {
    "collapsed": false,
    "pycharm": {
     "name": "#%% md\n"
    }
   }
  },
  {
   "cell_type": "code",
   "execution_count": null,
   "outputs": [],
   "source": [
    "print(ord('e'))\n",
    "print(ord('m'))"
   ],
   "metadata": {
    "collapsed": false,
    "pycharm": {
     "name": "#%%\n"
    }
   }
  },
  {
   "cell_type": "markdown",
   "source": [
    "<p>Для обратного преобразования используется метод <code>chr(<b>код</b>)</code>.</p>"
   ],
   "metadata": {
    "collapsed": false,
    "pycharm": {
     "name": "#%% md\n"
    }
   }
  },
  {
   "cell_type": "code",
   "execution_count": null,
   "outputs": [],
   "source": [
    "print(chr(101))\n",
    "print(chr(109))"
   ],
   "metadata": {
    "collapsed": false,
    "pycharm": {
     "name": "#%%\n"
    }
   }
  },
  {
   "cell_type": "markdown",
   "source": [
    "### Циклы со строчками\n",
    "\n",
    "<p>Так как строка является индексируемым объектом, ее можно поместить в цикл и строить на ее основе повторения.</p>"
   ],
   "metadata": {
    "collapsed": false,
    "pycharm": {
     "name": "#%% md\n"
    }
   }
  },
  {
   "cell_type": "code",
   "execution_count": null,
   "outputs": [],
   "source": [
    "phrase5 = 'Hello, World!'\n",
    "\n",
    "for i in range(len(phrase5)):\n",
    "    print(phrase5[i])  # достать из строки символ, равный значению переменной i"
   ],
   "metadata": {
    "collapsed": false,
    "pycharm": {
     "name": "#%%\n"
    }
   }
  },
  {
   "cell_type": "code",
   "execution_count": null,
   "outputs": [],
   "source": [],
   "metadata": {
    "collapsed": false,
    "pycharm": {
     "name": "#%%\n"
    }
   }
  },
  {
   "cell_type": "code",
   "execution_count": 24,
   "metadata": {},
   "outputs": [
    {
     "name": "stdout",
     "output_type": "stream",
     "text": [
      ".isupper(): True\n",
      ".islower(): True\n",
      ".isdigit(): True\n",
      ".isprintable(): True\n"
     ]
    }
   ],
   "source": [
    "print(f'A.isupper(): {\"A\".isupper()}')\n",
    "print(f'a.islower(): {\"a\".islower()}')\n",
    "print(f'5.isdigit(): {\"5\".isdigit()}')\n",
    "print(f'!.isprintable(): {\"!\".isprintable()}')"
   ]
  },
  {
   "cell_type": "markdown",
   "metadata": {},
   "source": [
    "<p>Есть методы, способные проверять, начинается ли строка с определенного символа или последовательности символов или наоборот - заканчивается ли строка определенным символом или последовательностью символов.</p>\n",
    "\n",
    "<ul>\n",
    "    <li><code>.startswith(seq)</code> - проверяет, начинается ли строчка с указанного символа <code>seq</code>.</li>\n",
    "    <li><code>.endswith(seq)</code> - проверяет, заканчивается ли строчка указанным символом <code>seq</code>.</li>\n",
    "</ul>"
   ]
  },
  {
   "cell_type": "code",
   "execution_count": 25,
   "metadata": {},
   "outputs": [
    {
     "name": "stdout",
     "output_type": "stream",
     "text": [
      "Hello!\n"
     ]
    }
   ],
   "source": [
    "greeting = 'Hello! My name is Demid!'\n",
    "\n",
    "if greeting.startswith('Hello'):\n",
    "    print('Hello!')\n",
    "else:\n",
    "    print('Where is your \"Hello\"?')"
   ]
  },
  {
   "cell_type": "markdown",
   "metadata": {},
   "source": [
    "<p>Метода, который проверяет, содержит ли строчка какие-то значения, не существует. Но есть оператор, который позволяет это проверить - <code>in</code>.</p>"
   ]
  },
  {
   "cell_type": "code",
   "execution_count": 26,
   "metadata": {},
   "outputs": [
    {
     "name": "stdout",
     "output_type": "stream",
     "text": [
      "True\n"
     ]
    }
   ],
   "source": [
    "print('My' in greeting)"
   ]
  },
  {
   "cell_type": "markdown",
   "metadata": {},
   "source": [
    "### Метод разделения строки на элементы\n",
    "\n",
    "<p><code>.split(<b>разделитель</b>)</code> - разбирает строчку на элементы по указанному разделителю и возвращает список. состоящий из элементов строки. Если не указать разделитель для метода, по умолчанию строка будет биться по пробелам.</p>"
   ]
  },
  {
   "cell_type": "code",
   "execution_count": 27,
   "metadata": {},
   "outputs": [
    {
     "name": "stdout",
     "output_type": "stream",
     "text": [
      "['Привет,', 'Андрей!', 'Зачем', 'ты', 'плюнул', 'в', 'голубей?']\n"
     ]
    }
   ],
   "source": [
    "phrase3 = 'Привет, Андрей! Зачем ты плюнул в голубей?'\n",
    "\n",
    "print(phrase3.split())"
   ]
  },
  {
   "cell_type": "code",
   "execution_count": 29,
   "metadata": {},
   "outputs": [
    {
     "name": "stdout",
     "output_type": "stream",
     "text": [
      "['Audi', 'BMW', 'Mercedes', 'Skoda', 'Lexus', 'BelAZ']\n"
     ]
    }
   ],
   "source": [
    "cars = 'Audi,BMW,Mercedes,Skoda,Lexus,BelAZ'\n",
    "\n",
    "print(cars.split(','))"
   ]
  },
  {
   "cell_type": "markdown",
   "metadata": {},
   "source": [
    "### Замена символов строки\n",
    "\n",
    "<p>Вы не можете заменить символо в строке по индексу, но вы можете заменить его, используя метод <code>.replace(<b>что_менять</b>, <b>на_что_менять</b>)</code>.</p>"
   ]
  },
  {
   "cell_type": "code",
   "execution_count": 31,
   "metadata": {},
   "outputs": [
    {
     "name": "stdout",
     "output_type": "stream",
     "text": [
      "М@м@ мыл@ р@му. Где м@м@?\n"
     ]
    }
   ],
   "source": [
    "phrase4 = 'Мама мыла раму. Где мама?'\n",
    "\n",
    "print(phrase4.replace('а', '@'))"
   ]
  },
  {
   "cell_type": "code",
   "execution_count": 33,
   "metadata": {},
   "outputs": [
    {
     "name": "stdout",
     "output_type": "stream",
     "text": [
      "I love Python!\n"
     ]
    }
   ],
   "source": [
    "phrase5 = 'I love C++!'\n",
    "\n",
    "print(phrase5.replace('C++', 'Python'))"
   ]
  },
  {
   "cell_type": "markdown",
   "metadata": {},
   "source": [
    "### Сравнение строк\n",
    "\n",
    "<p>Строки можно сравнивать с помощью стандартных операторов сравнения: <code>&gt;, &lt;, ==, !=, &lt;=, &gt;=</code>.</p>\n",
    "<p>Строки сравниваются не так, как сравниваются числа.</p>"
   ]
  },
  {
   "cell_type": "code",
   "execution_count": 34,
   "metadata": {},
   "outputs": [
    {
     "name": "stdout",
     "output_type": "stream",
     "text": [
      "True\n"
     ]
    }
   ],
   "source": [
    "animal1 = 'elephant'\n",
    "animal2 = 'mouse'\n",
    "\n",
    "print(animal1 < animal2)"
   ]
  },
  {
   "cell_type": "markdown",
   "metadata": {},
   "source": [
    "<p>При сравнении строк во внимание берется <b>только</b> положение буквы из строки в алфавите. Строки сравниваются посимвольно, пока не будет найдено различие. В нашем случае различие идет уже с первого символа. Так как порядковый номер буквы <code>e</code> меньше (она раньше расположена), чем порядковый номер буквы <code>m</code>, операция сравнения говорит о том, что слон меньше мыши.</p>"
   ]
  },
  {
   "cell_type": "code",
   "execution_count": 35,
   "metadata": {},
   "outputs": [
    {
     "name": "stdout",
     "output_type": "stream",
     "text": [
      "False\n"
     ]
    }
   ],
   "source": [
    "animal1 = 'elephant'\n",
    "animal2 = 'elephand'\n",
    "\n",
    "print(animal1 < animal2)"
   ]
  },
  {
   "cell_type": "markdown",
   "metadata": {},
   "source": [
    "<p>Чтобы определять \"порядковые номера\" букв, используются числовые коды таблицы <b>ASCII</b> - это специальная таблица всех клавиатурных символов. Компьютер не распознает лигатуры (картинка буквы), которые вы видите на экране. Для него каждый символ - это числовоой код из таблицы. Чтобы узнать эти числовые коды используется метод <code>ord(<b>символ</b>)</code>.</p>"
   ]
  },
  {
   "cell_type": "code",
   "execution_count": 36,
   "metadata": {},
   "outputs": [
    {
     "name": "stdout",
     "output_type": "stream",
     "text": [
      "101\n",
      "109\n"
     ]
    }
   ],
   "source": [
    "print(ord('e'))\n",
    "print(ord('m'))"
   ]
  },
  {
   "cell_type": "markdown",
   "metadata": {},
   "source": [
    "<p>Для обратного преобразования используется метод <code>chr(<b>код</b>)</code>.</p>"
   ]
  },
  {
   "cell_type": "code",
   "execution_count": 38,
   "metadata": {},
   "outputs": [
    {
     "name": "stdout",
     "output_type": "stream",
     "text": [
      "e\n",
      "m\n"
     ]
    }
   ],
   "source": [
    "print(chr(101))\n",
    "print(chr(109))"
   ]
  },
  {
   "cell_type": "markdown",
   "metadata": {},
   "source": [
    "### Циклы со строчками\n",
    "\n",
    "<p>Так как строка является индексируемым объектом, ее можно поместить в цикл и строить на ее основе повторения.</p>"
   ]
  },
  {
   "cell_type": "code",
   "execution_count": 39,
   "metadata": {},
   "outputs": [
    {
     "name": "stdout",
     "output_type": "stream",
     "text": [
      "H\n",
      "e\n",
      "l\n",
      "l\n",
      "o\n",
      ",\n",
      " \n",
      "W\n",
      "o\n",
      "r\n",
      "l\n",
      "d\n",
      "!\n"
     ]
    }
   ],
   "source": [
    "phrase5 = 'Hello, World!'\n",
    "\n",
    "for i in range(len(phrase5)):\n",
    "    print(phrase5[i])  # достать из строки символ, равный значению переменной i"
   ]
  },
  {
   "cell_type": "code",
   "execution_count": null,
   "metadata": {},
   "outputs": [],
   "source": []
  }
 ],
 "metadata": {
  "kernelspec": {
   "display_name": "Python 3 (ipykernel)",
   "language": "python",
   "name": "python3"
  },
  "language_info": {
   "codemirror_mode": {
    "name": "ipython",
    "version": 3
   },
   "file_extension": ".py",
   "mimetype": "text/x-python",
   "name": "python",
   "nbconvert_exporter": "python",
   "pygments_lexer": "ipython3",
   "version": "3.10.4"
  }
 },
 "nbformat": 4,
 "nbformat_minor": 1
}