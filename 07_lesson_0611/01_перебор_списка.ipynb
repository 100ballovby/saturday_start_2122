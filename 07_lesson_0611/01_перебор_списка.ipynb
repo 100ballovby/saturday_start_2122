{
 "cells": [
  {
   "cell_type": "markdown",
   "metadata": {
    "collapsed": true
   },
   "source": [
    "## Перебор списка\n",
    "\n",
    "<p>Помимо наполнения списки можно еще и перебирать. Перебрать список - значит просмотреть каждый элемент этого списка и выполнить с ним какую-то операцию.</p>\n",
    "\n",
    "<p>Для перебора значений списка есть два варианта развития событий.</p>\n",
    "\n",
    "### Вариант 1. Перебор по элементам\n",
    "\n",
    "<p>Для того, чтобы перебрать список, можно просто поставить его как последовательность для цикла <code>for</code>. При таком способе каждые элемент списка будет передаваться в управляющую переменную цикла, что позволит поработать с каждым элементом отдельно.</p>"
   ]
  },
  {
   "cell_type": "code",
   "execution_count": 1,
   "metadata": {},
   "outputs": [
    {
     "name": "stdout",
     "output_type": "stream",
     "text": [
      "4\n",
      "9\n",
      "16\n",
      "25\n",
      "36\n"
     ]
    }
   ],
   "source": [
    "squares = [4, 9, 16, 25, 36, 49]\n",
    "\n",
    "for element in squares:  # element  <-  4, 9, 16, 25, 36, 49\n",
    "    print(element)  # вывожу каждый элемент"
   ]
  },
  {
   "cell_type": "markdown",
   "metadata": {},
   "source": [
    "<p>Модернизирую программу таким образом, чтобы получить первоначальное число, которое возвели в квадрат.</p>\n",
    "\n",
    "<p>Чтобы это работало, мне понадобится встроенная библиотека <code>math</code> и функция извлечения квадратного корня <code>sqrt()</code>. Квадратный корень числа - это операция обратная возведению в квадрат (степень 2). Например: <code>√49 = 7</code>, потому что <code>7<sup>2</sup> = 49</code></p>"
   ]
  },
  {
   "cell_type": "code",
   "execution_count": 4,
   "metadata": {},
   "outputs": [
    {
     "name": "stdout",
     "output_type": "stream",
     "text": [
      "√4 = 2.0\n",
      "√9 = 3.0\n",
      "√16 = 4.0\n",
      "√25 = 5.0\n",
      "√36 = 6.0\n",
      "√49 = 7.0\n"
     ]
    }
   ],
   "source": [
    "from math import sqrt\n",
    "\n",
    "squares = [4, 9, 16, 25, 36, 49]\n",
    "\n",
    "for element in squares:  # element  <-  4, 9, 16, 25, 36, 49\n",
    "    print(f'√{element} = {sqrt(element)}')  # вывожу корень каждого из элементов списка"
   ]
  },
  {
   "cell_type": "markdown",
   "metadata": {},
   "source": [
    "### Вариант 2. Перебор по индекса\n",
    "\n",
    "<p>Перебирать элементы списка можно не только по значению, но и по их индексам. Чтобы перебрать элементы по индексам, я буду передавать циклу не список, а функцию <code>range()</code>, с аргументом - длина списка.</p>"
   ]
  },
  {
   "cell_type": "code",
   "execution_count": 8,
   "metadata": {},
   "outputs": [
    {
     "name": "stdout",
     "output_type": "stream",
     "text": [
      "index_0 = 4\n",
      "index_1 = 9\n",
      "index_2 = 16\n",
      "index_3 = 25\n",
      "index_4 = 36\n",
      "index_5 = 49\n"
     ]
    }
   ],
   "source": [
    "squares = [4, 9, 16, 25, 36, 49]\n",
    "\n",
    "for index in range(len(squares)):  # element  <-  0, 1, 2, 3, 4, 5\n",
    "    print(f'index_{index} = {squares[index]}') "
   ]
  },
  {
   "cell_type": "markdown",
   "metadata": {},
   "source": [
    "<p>Если я хочу повторить предыдущее усложнение, все что мне нужно сделать это:</p>"
   ]
  },
  {
   "cell_type": "code",
   "execution_count": 9,
   "metadata": {},
   "outputs": [
    {
     "name": "stdout",
     "output_type": "stream",
     "text": [
      "√4 = 2.0\n",
      "√9 = 3.0\n",
      "√16 = 4.0\n",
      "√25 = 5.0\n",
      "√36 = 6.0\n",
      "√49 = 7.0\n"
     ]
    }
   ],
   "source": [
    "from math import sqrt\n",
    "\n",
    "squares = [4, 9, 16, 25, 36, 49]\n",
    "\n",
    "for index in range(len(squares)):  # element  <-  4, 9, 16, 25, 36, 49\n",
    "    print(f'√{squares[index]} = {sqrt(squares[index])}')  # вывожу корень каждого из элементов списка"
   ]
  },
  {
   "cell_type": "code",
   "execution_count": null,
   "metadata": {},
   "outputs": [],
   "source": []
  }
 ],
 "metadata": {
  "kernelspec": {
   "display_name": "Python 3 (ipykernel)",
   "language": "python",
   "name": "python3"
  },
  "language_info": {
   "codemirror_mode": {
    "name": "ipython",
    "version": 3
   },
   "file_extension": ".py",
   "mimetype": "text/x-python",
   "name": "python",
   "nbconvert_exporter": "python",
   "pygments_lexer": "ipython3",
   "version": "3.7.7"
  }
 },
 "nbformat": 4,
 "nbformat_minor": 1
}
