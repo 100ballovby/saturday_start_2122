{
 "cells": [
  {
   "cell_type": "markdown",
   "metadata": {
    "collapsed": true,
    "pycharm": {
     "is_executing": true
    }
   },
   "source": [
    "## Наполнение списка\n",
    "### Вариант глупый\n",
    "\n",
    "<p>Если у вас нет списка, вы можете собственноручно его создать и вписать туда элементы от руки.</p>"
   ]
  },
  {
   "cell_type": "code",
   "execution_count": 1,
   "metadata": {},
   "outputs": [],
   "source": [
    "list1 = [4, 5, 1, 6, 9, 10, 6, 8, 3]"
   ]
  },
  {
   "cell_type": "markdown",
   "metadata": {},
   "source": [
    "<p>Этот вариант нежизнеспособен, потому что нет возможности сделать список большого размера быстро.</p>"
   ]
  },
  {
   "cell_type": "markdown",
   "metadata": {},
   "source": [
    "### Вариант более умный\n",
    "\n",
    "<p>Мы знакомы с циклами и библиотекой <code>random</code>. Если их совместить, можно написать собственный алгоритм наполнения списка значениями.</p>\n",
    "\n",
    "<p>Для начала наполним список числами по порядку.</p>"
   ]
  },
  {
   "cell_type": "code",
   "execution_count": 2,
   "metadata": {},
   "outputs": [
    {
     "name": "stdout",
     "output_type": "stream",
     "text": [
      "[0, 1, 2, 3, 4, 5, 6, 7, 8, 9, 10, 11, 12, 13, 14]\n"
     ]
    }
   ],
   "source": [
    "progression = []  # создаю пустой список для наполнения \n",
    "\n",
    "for i in range(15):  # i <- 0, 1, 2, ..., 14\n",
    "    progression.append(i)  # добавляю число из промежутка в список\n",
    "    \n",
    "print(progression)"
   ]
  },
  {
   "cell_type": "markdown",
   "metadata": {},
   "source": [
    "<p>Функция <code>range()</code> создает мне математическую последовательность. Каждое число из последовательности будет записано в управляющую переменную цикла <code>for</code> - в <code>i</code>. Значение переменной <code>i</code> я добавляю в список с помощью метода <code>.append()</code>. И на выходе получаю себе список чисел от 0 до 14.</p>\n",
    "\n",
    "<p>Такой способ, например, позволит наполнить список четными числами до 20 включительно:</p>"
   ]
  },
  {
   "cell_type": "code",
   "execution_count": 3,
   "metadata": {},
   "outputs": [
    {
     "name": "stdout",
     "output_type": "stream",
     "text": [
      "[2, 4, 6, 8, 10, 12, 14, 16, 18, 20]\n"
     ]
    }
   ],
   "source": [
    "progression = []  # создаю пустой список для наполнения \n",
    "\n",
    "for i in range(2, 21, 2):  # i  <-  2, 4, 6, ..., 20\n",
    "    progression.append(i)  # добавляю число из промежутка в список\n",
    "    \n",
    "print(progression)"
   ]
  },
  {
   "cell_type": "markdown",
   "metadata": {},
   "source": [
    "<p>Несмотря на относительную простоту написания, это не самый лучший вариант подобного наполнения. Дело в том, что в Python существует функция, которая умеет делать списки. Это функция <code>list(x)</code>, она превращает аргумент <code>х</code> в список, если может это сделать.</p>"
   ]
  },
  {
   "cell_type": "code",
   "execution_count": 5,
   "metadata": {},
   "outputs": [
    {
     "name": "stdout",
     "output_type": "stream",
     "text": [
      "['п', 'р', 'и', 'в', 'е', 'т']\n"
     ]
    }
   ],
   "source": [
    "print(list('привет'))"
   ]
  },
  {
   "cell_type": "markdown",
   "metadata": {},
   "source": [
    "<p>Если поместить функцию <code>range()</code> с аргументами внутрь функции <code>list()</code>, вы получите список на основе последовательности. Таким образом предыдущая задача решается в одну строчку.</p>"
   ]
  },
  {
   "cell_type": "code",
   "execution_count": 6,
   "metadata": {},
   "outputs": [
    {
     "name": "stdout",
     "output_type": "stream",
     "text": [
      "[2, 4, 6, 8, 10, 12, 14, 16, 18, 20]\n"
     ]
    }
   ],
   "source": [
    "progression1 = list(range(2, 21, 2))\n",
    "\n",
    "print(progression1)"
   ]
  },
  {
   "cell_type": "markdown",
   "metadata": {},
   "source": [
    "### Случайное наполнение списка \n",
    "\n",
    "<p>Не всегда будет нужно наполнять список по порядку. Зачастую вам понадобится случайная последовательность чисел или символов, с которой необходимо будет что-то сделать.</p>\n",
    "\n",
    "<p>Чтобы наполнить список, например, случайными числами, нужно заставить генерироваться случайное число в цикле и в этом же цикле добавлять это случайное число в список. Для этого нам понадобится библиотека <code>random</code>.</p>"
   ]
  },
  {
   "cell_type": "code",
   "execution_count": 8,
   "metadata": {},
   "outputs": [
    {
     "name": "stdout",
     "output_type": "stream",
     "text": [
      "[41, 35, 8, 45, 28, 45, 39, 39, 44, 4, 24, 46, 50, 14, 19, 35, 7, 27, 22, 23, 49, 16, 19, 45, 46, 35, 16, 30, 36, 17]\n"
     ]
    }
   ],
   "source": [
    "import random as r\n",
    "\n",
    "r_list = []  # создаю пустой список для наполнения \n",
    "\n",
    "for number in range(30):  # повторить 30 раз \n",
    "    rint = r.randint(1, 50)  # генерирую случайное число в промежутке от 1 до 49\n",
    "    r_list.append(rint)  # добавляю случайное число в список\n",
    "    \n",
    "print(r_list)"
   ]
  },
  {
   "cell_type": "markdown",
   "metadata": {},
   "source": [
    "### Наполнение списка по условию\n",
    "\n",
    "<p>В предыдущем примере число <code>16</code> повторяется дважды. Что если мне нужно сделать так, чтобы в списке были только уникальные значения? Я могу поставить в цикл наполнения списка условие, по которому он будет наполняться.</p>"
   ]
  },
  {
   "cell_type": "code",
   "execution_count": 18,
   "metadata": {},
   "outputs": [
    {
     "name": "stdout",
     "output_type": "stream",
     "text": [
      "[2, 13, 6, 1, 9, 3, 15]\n"
     ]
    }
   ],
   "source": [
    "import random as r\n",
    "\n",
    "r_list = []  # создаю пустой список для наполнения \n",
    "\n",
    "for number in range(10):  # повторить 10 раз \n",
    "    rint = r.randint(1, 15)  # генерирую случайное число в промежутке от 1 до 15\n",
    "    \n",
    "    if rint not in r_list:  # если числа нет в списке,\n",
    "        r_list.append(rint)  # добавляю его\n",
    "    \n",
    "print(r_list)"
   ]
  },
  {
   "cell_type": "markdown",
   "metadata": {},
   "source": [
    "<p>В предыдущем примере я действительно получаю список чисел, которые не повторяются. Но проблема в том, что количество этих чисел никак не контролируется. Цикл на 10 повторений просто 10 раз генерирует число и при этом не дает вам никакой гарантии того, что вы получите 10 чисел.</p>\n",
    "\n",
    "<p>Цикл <code>for</code> не подходит для решения этой задачи. Он просто повторяется определенное количество раз и не будет делать дополнительные итерации только потому что у вас недостаточно чисел в списке. Для решения этой задачи лучше использовать цикл <code>while</code>. Потому что ему можно настроить четкое условие работы: <b><i>пока в спике не будет 10 чисел</i></b>.</p>"
   ]
  },
  {
   "cell_type": "code",
   "execution_count": 21,
   "metadata": {},
   "outputs": [
    {
     "name": "stdout",
     "output_type": "stream",
     "text": [
      "[4, 1, 7, 6, 15, 12, 10, 8, 14, 13, 2]\n"
     ]
    }
   ],
   "source": [
    "import random as r\n",
    "\n",
    "r_list = []  # создаю пустой список для наполнения \n",
    "\n",
    "while len(r_list) <= 10:  # пока длина списка не равна 10\n",
    "    rint = r.randint(1, 15)  # генерирую случайное число в промежутке от 1 до 15\n",
    "    \n",
    "    if rint not in r_list:  # если числа нет в списке,\n",
    "        r_list.append(rint)  # добавляю его\n",
    "    \n",
    "print(r_list)"
   ]
  },
  {
   "cell_type": "markdown",
   "metadata": {},
   "source": [
    "<p>Функция <code>len(x)</code> измеряет длину коллекции <code>x</code> и возвращает число.</p>"
   ]
  },
  {
   "cell_type": "code",
   "execution_count": 22,
   "metadata": {},
   "outputs": [
    {
     "name": "stdout",
     "output_type": "stream",
     "text": [
      "6\n"
     ]
    }
   ],
   "source": [
    "print(len('привет'))"
   ]
  },
  {
   "cell_type": "markdown",
   "metadata": {},
   "source": [
    "## Не только числа\n",
    "\n",
    "<p>Списки можно наполнять еще и буквами и другими символами. Для работы со строчными символами и символами алфавита есть специальная библиотека <code>string</code>.</p>\n",
    "\n",
    "<p>Библиотека позволяет вам относительно быстро сгенерировать, например, символы английского алфавита и знаки препинания. Библиотека встроена в Python и ее не нужно скачивать, можно просто импортировать.</p> "
   ]
  },
  {
   "cell_type": "code",
   "execution_count": 24,
   "metadata": {},
   "outputs": [],
   "source": [
    "import string as s "
   ]
  },
  {
   "cell_type": "markdown",
   "metadata": {},
   "source": [
    "<p>У нее есть несколько функций:</p>\n",
    "\n",
    "<ol>\n",
    "    <li><code>.ascii_lowercase</code> - функция, которая создает строчку, состояюшую из маленьких символов английского алфавита.</li>\n",
    "    <li><code>.ascii_uppercase</code> - функция, которая создает строчку, состояюшую из больших символов английского алфавита.</li>\n",
    "    <li><code>.ascii_letters</code> - функция, которая создает строчку, состояюшую из всех символов английского алфавита (и маленькие, и большие).</li>\n",
    "    <li><code>.punctuation</code> - функция, которая создает строчку, состояющую из знаков пунктуации.</li>\n",
    "    <li><code>.digits</code> - функция, которая создает строчку, состояющую из цифр.</li>\n",
    "</ol>"
   ]
  },
  {
   "cell_type": "code",
   "execution_count": 29,
   "metadata": {},
   "outputs": [
    {
     "name": "stdout",
     "output_type": "stream",
     "text": [
      "abcdefghijklmnopqrstuvwxyz\n",
      "ABCDEFGHIJKLMNOPQRSTUVWXYZ\n",
      "abcdefghijklmnopqrstuvwxyzABCDEFGHIJKLMNOPQRSTUVWXYZ\n",
      "!\"#$%&'()*+,-./:;<=>?@[\\]^_`{|}~\n",
      "0123456789\n"
     ]
    }
   ],
   "source": [
    "import string as s \n",
    "\n",
    "print(s.ascii_lowercase)\n",
    "print(s.ascii_uppercase)\n",
    "print(s.ascii_letters)\n",
    "print(s.punctuation)\n",
    "print(s.digits)"
   ]
  },
  {
   "cell_type": "markdown",
   "metadata": {},
   "source": [
    "<p>Мне нужно сделать список, состоящий из маленьких символов английского алфавита.<p>"
   ]
  },
  {
   "cell_type": "code",
   "execution_count": 30,
   "metadata": {},
   "outputs": [
    {
     "name": "stdout",
     "output_type": "stream",
     "text": [
      "['a', 'b', 'c', 'd', 'e', 'f', 'g', 'h', 'i', 'j', 'k', 'l', 'm', 'n', 'o', 'p', 'q', 'r', 's', 't', 'u', 'v', 'w', 'x', 'y', 'z']\n"
     ]
    }
   ],
   "source": [
    "import string as s \n",
    "\n",
    "eng = list(s.ascii_lowercase)\n",
    "\n",
    "print(eng)"
   ]
  },
  {
   "cell_type": "markdown",
   "metadata": {},
   "source": [
    "<p>То же самое касается ситуации, когда нужен список со знаками препинания.</p>"
   ]
  },
  {
   "cell_type": "code",
   "execution_count": 31,
   "metadata": {},
   "outputs": [
    {
     "name": "stdout",
     "output_type": "stream",
     "text": [
      "['!', '\"', '#', '$', '%', '&', \"'\", '(', ')', '*', '+', ',', '-', '.', '/', ':', ';', '<', '=', '>', '?', '@', '[', '\\\\', ']', '^', '_', '`', '{', '|', '}', '~']\n"
     ]
    }
   ],
   "source": [
    "import string as s \n",
    "\n",
    "punct = list(s.punctuation)\n",
    "\n",
    "print(punct)"
   ]
  },
  {
   "cell_type": "markdown",
   "metadata": {},
   "source": [
    "<p>Если мне нужен список, который будет наполнен случайными символами в случайном порядке, я могу сделать так:</p>"
   ]
  },
  {
   "cell_type": "code",
   "execution_count": 36,
   "metadata": {},
   "outputs": [
    {
     "name": "stdout",
     "output_type": "stream",
     "text": [
      "abcdefghijklmnopqrstuvwxyzABCDEFGHIJKLMNOPQRSTUVWXYZ!\"#$%&'()*+,-./:;<=>?@[\\]^_`{|}~\n",
      "['Q', ':', ':', '%', 'i', 'R', 'E', 'e', 'u', 'o', 'P', 'y', 'd', '>', '\\\\', '|', 'Z', 'H', '[', 'F', 'B', 'M', '-', 'm', 'P', '$', '-', 'F', 'e', '`', ']', 'D', ',', '\"', 'J', 'G', \"'\", ')', 'r', 'r', '+', 'c', '-', 'F', 't', ';', 'c', '[', 'X', 'l', 'l', '@', 'n', '_', '_', 'T', 'd', '+', '-', '>', 'N', '-', 'B', 'W', '%', 'w', 'Y', 'X', 'n', 'y', 'J', 'K', 'J', 'f', 'G', 'V', '\"', '|', 'f', '%', 'M', ']', '?', 'J']\n"
     ]
    }
   ],
   "source": [
    "import string as s \n",
    "import random as r\n",
    "\n",
    "p = s.punctuation\n",
    "l = s.ascii_letters\n",
    "\n",
    "res = l + p\n",
    "\n",
    "symbols = []  # список символов\n",
    "\n",
    "for i in range(len(res)):  # количество повторений цикла = длине строки с символами\n",
    "    r_char = r.choice(res)  # достаю случайный символ из последовательности \n",
    "    symbols.append(r_char)\n",
    "    \n",
    "\n",
    "print(res)\n",
    "print(symbols)"
   ]
  },
  {
   "cell_type": "markdown",
   "metadata": {},
   "source": [
    "<p>Как видите, символы в списке повторяются. Чтобы этого избежать, как и раньше, воспользуюсь циклом <code>while</code>.</p>"
   ]
  },
  {
   "cell_type": "code",
   "execution_count": 39,
   "metadata": {},
   "outputs": [
    {
     "name": "stdout",
     "output_type": "stream",
     "text": [
      "['c', 'w', 'U', 'S', 'H', 'Z', \"'\", 'R', ']', ')', 'B', 'a', 'n', '_', 'D', 'L', '.', '|', 'N', '+', 'G', 'b', 'Q', 'X', '>', ',', '@', '^', '&', 'C', 'x', 'l', '*', '/', 'j', 'k', '$', ';', 'J', 'E', '}', ':', '~', '(', 's', 'T', 'O', '#', '?', '[', '\\\\', 'r', 'W', 'p', '<', 'h', 'm', 'g', 'q', 'o', '=', 'i', 'f', 'd', 'z', 'v', 't', 'F', '-', 'u', '!', '`', 'V', 'K', 'e', 'M', '{', 'y', 'Y', 'I', 'P', '\"', 'A', '%']\n"
     ]
    }
   ],
   "source": [
    "import string as s \n",
    "import random as r\n",
    "\n",
    "p = s.punctuation\n",
    "l = s.ascii_letters\n",
    "\n",
    "res = l + p\n",
    "\n",
    "symbols = []  # список символов\n",
    "\n",
    "while len(symbols) != len(res):  # пока длина списка и длина строчки не совпадают\n",
    "    r_char = r.choice(res)  # достаю случайный символ из последовательности\n",
    "    \n",
    "    if r_char not in symbols:\n",
    "        symbols.append(r_char)\n",
    "    \n",
    "\n",
    "print(symbols)"
   ]
  },
  {
   "cell_type": "code",
   "execution_count": null,
   "metadata": {},
   "outputs": [],
   "source": []
  }
 ],
 "metadata": {
  "kernelspec": {
   "display_name": "Python 3 (ipykernel)",
   "language": "python",
   "name": "python3"
  },
  "language_info": {
   "codemirror_mode": {
    "name": "ipython",
    "version": 3
   },
   "file_extension": ".py",
   "mimetype": "text/x-python",
   "name": "python",
   "nbconvert_exporter": "python",
   "pygments_lexer": "ipython3",
   "version": "3.7.7"
  }
 },
 "nbformat": 4,
 "nbformat_minor": 1
}
