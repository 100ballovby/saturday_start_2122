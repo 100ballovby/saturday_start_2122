{
 "cells": [
  {
   "cell_type": "markdown",
   "metadata": {
    "collapsed": true
   },
   "source": [
    "# Лабораторная №1\n",
    "\n",
    "<p>Написать программу вычисления стоимости покупки с учетом скидки. Скидка в <code>5%</code> предоставляется в том случае, если сумма покупки больше <code>500 руб.</code>, в <code>7%</code> - если сумма больше <code>1000 руб.</code> Число вводится пользователем.</p>"
   ]
  },
  {
   "cell_type": "code",
   "execution_count": 4,
   "metadata": {},
   "outputs": [
    {
     "name": "stdout",
     "output_type": "stream",
     "text": [
      "Введите число: 499\n",
      "Сумма: 499, cкидка не предоставляется!\n"
     ]
    }
   ],
   "source": [
    "price = int(input('Введите число: '))\n",
    "\n",
    "if 500 <= price < 1000:\n",
    "    print(f'Сумма с учетом скидки в 5%: {price * 0.95}')\n",
    "elif price >= 1000:\n",
    "    print(f'Сумма с учетом скидки в 7%: {price * 0.93}')\n",
    "else:\n",
    "    print(f'Сумма: {price}, cкидка не предоставляется!')"
   ]
  },
  {
   "cell_type": "markdown",
   "metadata": {},
   "source": [
    "<p><code>f</code> перед строкой и <code>{}</code> внутри строки позволяют вам вставить в строчку значение переменной.</p>\n",
    "\n",
    "<p><code>elif</code> - также если. То есть если первое условие не было выполнено, сначала будет проверяться <code>elif</code>, а если и он уже не исполнится, то программа исполняет код из блока <code>else</code>.</p>\n",
    "\n",
    "### Задача №10\n",
    "\n",
    "<p>Заданы две клетки шахматной доски. Если они покрашены в один цвет, то выведите слово YES, а если в разные цвета — то NO. Программа получает на вход четыре числа от 1 до 8 каждое, задающие номер столбца и номер строки сначала для первой клетки, потом для второй клетки.</p>\n",
    "\n",
    "<p>Мне будут вводить координаты клеток, чтобы решить задачу, нужно проанализировать то, как клетки расположены на доске и то, какие координаты они имеют. Например, при сложении координат клеток <code>A1 (1;1)</code> и <code>C5 (3;5)</code>, мы получим четное число.<br>А при сложении координат клеток <code>F4 (6;4)</code> b <code>D1 (4;1)</code>, мы получим нечетное число.</p>"
   ]
  },
  {
   "cell_type": "code",
   "execution_count": null,
   "metadata": {},
   "outputs": [],
   "source": [
    "x1 = int(input('Введите х1: '))\n",
    "y1 = int(input('Введите y1: '))\n",
    "x2 = int(input('Введите x2: '))\n",
    "y2 = int(input('Введите y2: '))\n",
    "\n",
    "if (x1 + y1 + x2 + y2) % 2 == 0:\n",
    "    print('YES')\n",
    "else:\n",
    "    print('NO')"
   ]
  },
  {
   "cell_type": "code",
   "execution_count": null,
   "metadata": {},
   "outputs": [],
   "source": []
  }
 ],
 "metadata": {
  "kernelspec": {
   "display_name": "Python 3 (ipykernel)",
   "language": "python",
   "name": "python3"
  },
  "language_info": {
   "codemirror_mode": {
    "name": "ipython",
    "version": 3
   },
   "file_extension": ".py",
   "mimetype": "text/x-python",
   "name": "python",
   "nbconvert_exporter": "python",
   "pygments_lexer": "ipython3",
   "version": "3.7.7"
  }
 },
 "nbformat": 4,
 "nbformat_minor": 1
}