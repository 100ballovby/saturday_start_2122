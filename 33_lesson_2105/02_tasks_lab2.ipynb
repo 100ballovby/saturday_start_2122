{
 "cells": [
  {
   "cell_type": "markdown",
   "source": [
    "# Строки. Лабораторная №2\n",
    "\n",
    "<p>Теория по строчкам находится <a href=\"https://github.com/100ballovby/8A_lessons_2122/blob/master/24_lesson_1605/00_strings_plus.ipynb\" target=\"_blank\">здесь</a>.</p>\n",
    "\n",
    "## Задача №1 \n",
    "\n",
    "<p>Найти в строке запятые и посчитать их количество.</p>"
   ],
   "metadata": {
    "collapsed": false,
    "pycharm": {
     "name": "#%% md\n"
    }
   }
  },
  {
   "cell_type": "code",
   "execution_count": null,
   "outputs": [],
   "source": [
    "phrase = 'Hello! I\\'m a Python devleoper, and you?'\n",
    "\n",
    "def task1(string):\n",
    "    commas = 0\n",
    "    for i in range(len(string)):\n",
    "        if string[i] == ',':\n",
    "            commas += 1\n",
    "    return commas\n",
    "\n",
    "print(task1(phrase))"
   ],
   "metadata": {
    "collapsed": false,
    "pycharm": {
     "name": "#%%\n"
    }
   }
  },
  {
   "cell_type": "markdown",
   "source": [
    "## Задача №2 \n",
    "\n",
    "<p>Найти в строке не только запятые, но и другие знаки препинания. Подсчитать общее их количество</p>\n"
   ],
   "metadata": {
    "collapsed": false,
    "pycharm": {
     "name": "#%% md\n"
    }
   }
  },
  {
   "cell_type": "code",
   "execution_count": null,
   "outputs": [],
   "source": [
    "def task2(string):\n",
    "    signs = 0\n",
    "    for i in range(len(string)):\n",
    "        if string[i] in ',.!?:;\"\"':\n",
    "            signs += 1\n",
    "    return signs\n",
    "\n",
    "print(task2(phrase))"
   ],
   "metadata": {
    "collapsed": false,
    "pycharm": {
     "name": "#%%\n"
    }
   }
  },
  {
   "cell_type": "markdown",
   "source": [
    "## Задача №3\n",
    "\n",
    "<p>Имеется строка с текстом. Подсчитать количество слов в тексте.</p>\n",
    "\n",
    "<p>Каждое слово в предложении заканчивается пробелом. Даже если перед ним стоит знак препинания. Самый простой способ решения задачи - найти пробелы, посчитать их и добавить 1. Это и будет количество слов в предложении + 1 последнее слово.</p>\n",
    "\n",
    "### Задача 3, вариант 1"
   ],
   "metadata": {
    "collapsed": false,
    "pycharm": {
     "name": "#%% md\n"
    }
   }
  },
  {
   "cell_type": "code",
   "execution_count": null,
   "outputs": [],
   "source": [
    "def task3_1(string):\n",
    "    spaces = 0\n",
    "    for i in range(len(string)):\n",
    "        if string[i] == ' ':\n",
    "            spaces += 1\n",
    "    return spaces + 1\n",
    "\n",
    "print(task3_1(phrase))"
   ],
   "metadata": {
    "collapsed": false,
    "pycharm": {
     "name": "#%%\n"
    }
   }
  },
  {
   "cell_type": "markdown",
   "source": [
    "<p>Среди строковых методов существует метод <code>.split()</code>, позволяющий превратить строку в список слов, разделителем по умолчанию являются пробелы.</p>\n",
    "\n",
    "### Задача 3, вариант 2"
   ],
   "metadata": {
    "collapsed": false,
    "pycharm": {
     "name": "#%% md\n"
    }
   }
  },
  {
   "cell_type": "code",
   "execution_count": null,
   "outputs": [],
   "source": [
    "def task3_2(string):\n",
    "    res = string.split()\n",
    "    return len(res)\n",
    "\n",
    "print(task3_2(phrase))"
   ],
   "metadata": {
    "collapsed": false,
    "pycharm": {
     "name": "#%%\n"
    }
   }
  },
  {
   "cell_type": "markdown",
   "source": [
    "## Задача 4\n",
    "\n",
    "<p>Имеется строка с текстом. Вывести текст, составленный из последних букв всех слов.</p>"
   ],
   "metadata": {
    "collapsed": false,
    "pycharm": {
     "name": "#%% md\n"
    }
   }
  },
  {
   "cell_type": "code",
   "execution_count": null,
   "outputs": [],
   "source": [
    "def task4(string):\n",
    "    res = string.split()\n",
    "    return res\n",
    "\n",
    "print(task4(phrase))"
   ],
   "metadata": {
    "collapsed": false,
    "pycharm": {
     "name": "#%%\n"
    }
   }
  },
  {
   "cell_type": "markdown",
   "source": [
    "<p>Первая проблема - нужно достать последний символ из каждого слова в строке.</p>"
   ],
   "metadata": {
    "collapsed": false,
    "pycharm": {
     "name": "#%% md\n"
    }
   }
  },
  {
   "cell_type": "code",
   "execution_count": null,
   "outputs": [],
   "source": [
    "def task4(string):\n",
    "    res = string.split()\n",
    "    last = ''\n",
    "    for word in res:\n",
    "        last += word[-1]\n",
    "    return last\n",
    "\n",
    "print(task4(phrase))"
   ],
   "metadata": {
    "collapsed": false,
    "pycharm": {
     "name": "#%%\n"
    }
   }
  },
  {
   "cell_type": "markdown",
   "source": [
    "<p>Некоторые посление символы в строках - знаки препинания. Чтобы от них избавиться, мы просто допишем условие внутрь нашей функции.</p>"
   ],
   "metadata": {
    "collapsed": false,
    "pycharm": {
     "name": "#%% md\n"
    }
   }
  },
  {
   "cell_type": "code",
   "execution_count": null,
   "outputs": [],
   "source": [
    "def task4(string):\n",
    "    res = string.split() # превращаю строку в список слов \n",
    "    last = ''\n",
    "    for word in res:  # перебираю все слова в списке \n",
    "        if word[-1] in ',.!?:;\"\"':  # если послдений символ - это знак препинания\n",
    "            last += word[-2]  # запишу предпоследний \n",
    "        else:  # если последний символ - не знак препинания \n",
    "            last += word[-1]  # запишу последний \n",
    "    return last\n",
    "\n",
    "print(task4(phrase))"
   ],
   "metadata": {
    "collapsed": false,
    "pycharm": {
     "name": "#%%\n"
    }
   }
  },
  {
   "cell_type": "markdown",
   "source": [
    "## Задача №5\n",
    "\n",
    "<p>Напишите программу, которая получает строчку и считает количество больших букв, маленьких букв и знаков препинания.</p>"
   ],
   "metadata": {
    "collapsed": false,
    "pycharm": {
     "name": "#%% md\n"
    }
   }
  },
  {
   "cell_type": "code",
   "execution_count": null,
   "outputs": [],
   "source": [
    "def task5(string):\n",
    "    signs = 0\n",
    "    big = 0\n",
    "    small = 0\n",
    "    for i in range(len(string)):\n",
    "        if string[i] in ',.!?:;\"\"':\n",
    "            signs += 1\n",
    "        elif string[i].isupper():\n",
    "            big += 1\n",
    "        elif string[i].islower():\n",
    "            small += 1\n",
    "    return big, small, signs\n",
    "\n",
    "print(task5(phrase))"
   ],
   "metadata": {
    "collapsed": false,
    "pycharm": {
     "name": "#%%\n"
    }
   }
  },
  {
   "cell_type": "markdown",
   "source": [
    "## Задача №6\n",
    "\n",
    "<p>Необходимо написать программу, которая отфильтрует из строки цифры и выведет их единой коллекцией, а также посчитает количество цифр и выведет его.</p>\n",
    "\n",
    "<p>У задачи два варианта решения:</p>\n",
    "<ul>\n",
    "    <li>Искать цифры, как и знаки препинания в задаче №5 (через оператор <code>in</code>);</li>\n",
    "    <li>Использовать метод <code>.isdigit()</code>.</li>\n",
    "</ul>"
   ],
   "metadata": {
    "collapsed": false,
    "pycharm": {
     "name": "#%% md\n"
    }
   }
  },
  {
   "cell_type": "code",
   "execution_count": null,
   "outputs": [],
   "source": [
    "def task5_1(string):\n",
    "    digits = 0\n",
    "    collection = ''\n",
    "    for i in range(len(string)):\n",
    "        if string[i] in '0123456789':\n",
    "            digits += 1\n",
    "            collection += string[i]\n",
    "    return digits, collection\n",
    "\n",
    "print(task5('I have 2 dogs and 1 cow, 5 parrots and 2 brothers.'))"
   ],
   "metadata": {
    "collapsed": false,
    "pycharm": {
     "name": "#%%\n"
    }
   }
  },
  {
   "cell_type": "code",
   "execution_count": null,
   "outputs": [],
   "source": [
    "def task5_2(string):\n",
    "    digits = 0\n",
    "    collection = ''\n",
    "    for i in range(len(string)):\n",
    "        if string[i].isdigit():\n",
    "            digits += 1\n",
    "            collection += string[i]\n",
    "    return digits, collection\n",
    "\n",
    "print(task5('I have 2 dogs and 1 cow, 5 parrots and 2 brothers.'))"
   ],
   "metadata": {
    "collapsed": false,
    "pycharm": {
     "name": "#%%\n"
    }
   }
  },
  {
   "cell_type": "code",
   "execution_count": null,
   "outputs": [],
   "source": [],
   "metadata": {
    "collapsed": false,
    "pycharm": {
     "name": "#%%\n"
    }
   }
  },
  {
   "cell_type": "code",
   "execution_count": 1,
   "metadata": {
    "pycharm": {
     "name": "#%%\n"
    }
   },
   "outputs": [
    {
     "name": "stdout",
     "output_type": "stream",
     "text": [
      "1\n"
     ]
    }
   ],
   "source": [
    "phrase = 'Hello! I\\'m a Python devleoper, and you?'\n",
    "\n",
    "def task1(string):\n",
    "    commas = 0\n",
    "    for i in range(len(string)):\n",
    "        if string[i] == ',':\n",
    "            commas += 1\n",
    "    return commas\n",
    "\n",
    "print(task1(phrase))"
   ]
  },
  {
   "cell_type": "markdown",
   "metadata": {
    "pycharm": {
     "name": "#%% md\n"
    }
   },
   "source": [
    "## Задача №2 \n",
    "\n",
    "<p>Найти в строке не только запятые, но и другие знаки препинания. Подсчитать общее их количество</p>\n"
   ]
  },
  {
   "cell_type": "code",
   "execution_count": 8,
   "metadata": {
    "pycharm": {
     "name": "#%%\n"
    }
   },
   "outputs": [
    {
     "name": "stdout",
     "output_type": "stream",
     "text": [
      "3\n"
     ]
    }
   ],
   "source": [
    "def task2(string):\n",
    "    signs = 0\n",
    "    for i in range(len(string)):\n",
    "        if string[i] in ',.!?:;\"\"':\n",
    "            signs += 1\n",
    "    return signs\n",
    "\n",
    "print(task2(phrase))"
   ]
  },
  {
   "cell_type": "markdown",
   "metadata": {
    "pycharm": {
     "name": "#%% md\n"
    }
   },
   "source": [
    "## Задача №3\n",
    "\n",
    "<p>Имеется строка с текстом. Подсчитать количество слов в тексте.</p>\n",
    "\n",
    "<p>Каждое слово в предложении заканчивается пробелом. Даже если перед ним стоит знак препинания. Самый простой способ решения задачи - найти пробелы, посчитать их и добавить 1. Это и будет количество слов в предложении + 1 последнее слово.</p>\n",
    "\n",
    "### Задача 3, вариант 1"
   ]
  },
  {
   "cell_type": "code",
   "execution_count": 3,
   "metadata": {
    "pycharm": {
     "name": "#%%\n"
    }
   },
   "outputs": [
    {
     "name": "stdout",
     "output_type": "stream",
     "text": [
      "7\n"
     ]
    }
   ],
   "source": [
    "def task3_1(string):\n",
    "    spaces = 0\n",
    "    for i in range(len(string)):\n",
    "        if string[i] == ' ':\n",
    "            spaces += 1\n",
    "    return spaces + 1\n",
    "\n",
    "print(task3_1(phrase))"
   ]
  },
  {
   "cell_type": "markdown",
   "metadata": {
    "pycharm": {
     "name": "#%% md\n"
    }
   },
   "source": [
    "<p>Среди строковых методов существует метод <code>.split()</code>, позволяющий превратить строку в список слов, разделителем по умолчанию являются пробелы.</p>\n",
    "\n",
    "### Задача 3, вариант 2"
   ]
  },
  {
   "cell_type": "code",
   "execution_count": 4,
   "metadata": {
    "pycharm": {
     "name": "#%%\n"
    }
   },
   "outputs": [
    {
     "name": "stdout",
     "output_type": "stream",
     "text": [
      "7\n"
     ]
    }
   ],
   "source": [
    "def task3_2(string):\n",
    "    res = string.split()\n",
    "    return len(res)\n",
    "\n",
    "print(task3_2(phrase))"
   ]
  },
  {
   "cell_type": "markdown",
   "metadata": {
    "pycharm": {
     "name": "#%% md\n"
    }
   },
   "source": [
    "## Задача 4\n",
    "\n",
    "<p>Имеется строка с текстом. Вывести текст, составленный из последних букв всех слов.</p>"
   ]
  },
  {
   "cell_type": "code",
   "execution_count": 6,
   "metadata": {
    "pycharm": {
     "name": "#%%\n"
    }
   },
   "outputs": [
    {
     "name": "stdout",
     "output_type": "stream",
     "text": [
      "['Hello!', \"I'm\", 'a', 'Python', 'devleoper,', 'and', 'you?']\n"
     ]
    }
   ],
   "source": [
    "def task4(string):\n",
    "    res = string.split()\n",
    "    return res\n",
    "\n",
    "print(task4(phrase))"
   ]
  },
  {
   "cell_type": "markdown",
   "metadata": {
    "pycharm": {
     "name": "#%% md\n"
    }
   },
   "source": [
    "<p>Первая проблема - нужно достать последний символ из каждого слова в строке.</p>"
   ]
  },
  {
   "cell_type": "code",
   "execution_count": 7,
   "metadata": {
    "pycharm": {
     "name": "#%%\n"
    }
   },
   "outputs": [
    {
     "name": "stdout",
     "output_type": "stream",
     "text": [
      "!man,d?\n"
     ]
    }
   ],
   "source": [
    "def task4(string):\n",
    "    res = string.split()\n",
    "    last = ''\n",
    "    for word in res:\n",
    "        last += word[-1]\n",
    "    return last\n",
    "\n",
    "print(task4(phrase))"
   ]
  },
  {
   "cell_type": "markdown",
   "metadata": {
    "pycharm": {
     "name": "#%% md\n"
    }
   },
   "source": [
    "<p>Некоторые посление символы в строках - знаки препинания. Чтобы от них избавиться, мы просто допишем условие внутрь нашей функции.</p>"
   ]
  },
  {
   "cell_type": "code",
   "execution_count": 9,
   "metadata": {
    "pycharm": {
     "name": "#%%\n"
    }
   },
   "outputs": [
    {
     "name": "stdout",
     "output_type": "stream",
     "text": [
      "omanrdu\n"
     ]
    }
   ],
   "source": [
    "def task4(string):\n",
    "    res = string.split() # превращаю строку в список слов \n",
    "    last = ''\n",
    "    for word in res:  # перебираю все слова в списке \n",
    "        if word[-1] in ',.!?:;\"\"':  # если послдений символ - это знак препинания\n",
    "            last += word[-2]  # запишу предпоследний \n",
    "        else:  # если последний символ - не знак препинания \n",
    "            last += word[-1]  # запишу последний \n",
    "    return last\n",
    "\n",
    "print(task4(phrase))"
   ]
  },
  {
   "cell_type": "markdown",
   "metadata": {
    "pycharm": {
     "name": "#%% md\n"
    }
   },
   "source": [
    "## Задача №5\n",
    "\n",
    "<p>Напишите программу, которая получает строчку и считает количество больших букв, маленьких букв и знаков препинания.</p>"
   ]
  },
  {
   "cell_type": "code",
   "execution_count": 10,
   "metadata": {
    "pycharm": {
     "name": "#%%\n"
    }
   },
   "outputs": [
    {
     "name": "stdout",
     "output_type": "stream",
     "text": [
      "(3, 26, 3)\n"
     ]
    }
   ],
   "source": [
    "def task5(string):\n",
    "    signs = 0\n",
    "    big = 0\n",
    "    small = 0\n",
    "    for i in range(len(string)):\n",
    "        if string[i] in ',.!?:;\"\"':\n",
    "            signs += 1\n",
    "        elif string[i].isupper():\n",
    "            big += 1\n",
    "        elif string[i].islower():\n",
    "            small += 1\n",
    "    return big, small, signs\n",
    "\n",
    "print(task5(phrase))"
   ]
  },
  {
   "cell_type": "markdown",
   "metadata": {
    "pycharm": {
     "name": "#%% md\n"
    }
   },
   "source": [
    "## Задача №6\n",
    "\n",
    "<p>Необходимо написать программу, которая отфильтрует из строки цифры и выведет их единой коллекцией, а также посчитает количество цифр и выведет его.</p>\n",
    "\n",
    "<p>У задачи два варианта решения:</p>\n",
    "<ul>\n",
    "    <li>Искать цифры, как и знаки препинания в задаче №5 (через оператор <code>in</code>);</li>\n",
    "    <li>Использовать метод <code>.isdigit()</code>.</li>\n",
    "</ul>"
   ]
  },
  {
   "cell_type": "code",
   "execution_count": 12,
   "metadata": {
    "pycharm": {
     "name": "#%%\n"
    }
   },
   "outputs": [
    {
     "name": "stdout",
     "output_type": "stream",
     "text": [
      "(4, '2152')\n"
     ]
    }
   ],
   "source": [
    "def task5_1(string):\n",
    "    digits = 0\n",
    "    collection = ''\n",
    "    for i in range(len(string)):\n",
    "        if string[i] in '0123456789':\n",
    "            digits += 1\n",
    "            collection += string[i]\n",
    "    return digits, collection\n",
    "\n",
    "print(task5('I have 2 dogs and 1 cow, 5 parrots and 2 brothers.'))"
   ]
  },
  {
   "cell_type": "code",
   "execution_count": 13,
   "metadata": {
    "pycharm": {
     "name": "#%%\n"
    }
   },
   "outputs": [
    {
     "name": "stdout",
     "output_type": "stream",
     "text": [
      "(4, '2152')\n"
     ]
    }
   ],
   "source": [
    "def task5_2(string):\n",
    "    digits = 0\n",
    "    collection = ''\n",
    "    for i in range(len(string)):\n",
    "        if string[i].isdigit():\n",
    "            digits += 1\n",
    "            collection += string[i]\n",
    "    return digits, collection\n",
    "\n",
    "print(task5('I have 2 dogs and 1 cow, 5 parrots and 2 brothers.'))"
   ]
  },
  {
   "cell_type": "code",
   "execution_count": null,
   "metadata": {
    "pycharm": {
     "name": "#%%\n"
    }
   },
   "outputs": [],
   "source": []
  }
 ],
 "metadata": {
  "kernelspec": {
   "display_name": "Python 3 (ipykernel)",
   "language": "python",
   "name": "python3"
  },
  "language_info": {
   "codemirror_mode": {
    "name": "ipython",
    "version": 3
   },
   "file_extension": ".py",
   "mimetype": "text/x-python",
   "name": "python",
   "nbconvert_exporter": "python",
   "pygments_lexer": "ipython3",
   "version": "3.10.4"
  }
 },
 "nbformat": 4,
 "nbformat_minor": 1
}